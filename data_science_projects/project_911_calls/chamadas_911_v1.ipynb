{
  "cells": [
    {
      "cell_type": "markdown",
      "metadata": {
        "id": "bzpmmBxsjDG4"
      },
      "source": [
        "# Projeto: Ligações para o 911"
      ]
    },
    {
      "cell_type": "markdown",
      "metadata": {
        "id": "RFrZXRJTmMCe"
      },
      "source": [
        "Estatística descritiva e algumas plotagens para estudo sobre chamadas do 911 (Montgomery County, PA)"
      ]
    },
    {
      "cell_type": "markdown",
      "metadata": {
        "id": "IFoQq7aNjEjx"
      },
      "source": [
        "Variáveis (e type) contidos na base de origem:\n",
        "* lat: String, Latitude\n",
        "* lng: String, Longitude\n",
        "* desc: String, Descrição da Chamada\n",
        "* zip: String, CEP\n",
        "* título: String, Título\n",
        "* timeStamp: String, AAAA-MM-DD HH: MM: SS\n",
        "* twp: String, Município\n",
        "* addr: String, Endereço\n",
        "* e: String, ?\n",
        "\n",
        "\n",
        "---\n",
        "Informações de variáveis retiradas da origem (https://www.kaggle.com/datasets/mchirico/montcoalert)\n",
        "\n",
        "\n"
      ]
    },
    {
      "cell_type": "markdown",
      "metadata": {
        "id": "653v9rVwmh6o"
      },
      "source": [
        "## Importando libs e dados utilizadas no projeto"
      ]
    },
    {
      "cell_type": "code",
      "execution_count": 62,
      "metadata": {
        "id": "N8xGducUjDzR"
      },
      "outputs": [],
      "source": [
        "import numpy as np\n",
        "import pandas as pd\n",
        "import matplotlib.pyplot as plt\n",
        "import seaborn as sns\n",
        "import plotly.express as px"
      ]
    },
    {
      "cell_type": "markdown",
      "metadata": {
        "id": "S4ibJ6pRmxpY"
      },
      "source": [
        "Carregando dados"
      ]
    },
    {
      "cell_type": "code",
      "execution_count": 63,
      "metadata": {
        "id": "zwzjvaBmj0XC"
      },
      "outputs": [],
      "source": [
        "df = pd.read_csv(f'data/911.csv')"
      ]
    },
    {
      "cell_type": "markdown",
      "metadata": {
        "id": "QPAIFDz1m3r_"
      },
      "source": [
        "## Informações primárias sobre a tipologia e estruturação dos dados\n",
        "* Vamos observar como as variáveis estão distribuidas e como são estruturadas no dataframe\n",
        "\n",
        "---\n",
        "\n",
        "\n"
      ]
    },
    {
      "cell_type": "markdown",
      "metadata": {
        "id": "4b_xDmDPoqdu"
      },
      "source": [
        "Observar se existe alguma variável Dummy (valor unico em todo df)"
      ]
    },
    {
      "cell_type": "code",
      "execution_count": 64,
      "metadata": {
        "colab": {
          "base_uri": "https://localhost:8080/"
        },
        "id": "88dwx3ZdnpD9",
        "outputId": "063ebaac-b4a8-4a1c-f9fe-b397c234da1e"
      },
      "outputs": [
        {
          "name": "stdout",
          "output_type": "stream",
          "text": [
            "Contagem de valores únicos em cada coluna: \n",
            "lat           25949\n",
            "lng           25980\n",
            "desc         663282\n",
            "zip             204\n",
            "title           148\n",
            "timeStamp    640754\n",
            "twp              68\n",
            "addr          41292\n",
            "e                 1\n",
            "dtype: int64\n"
          ]
        }
      ],
      "source": [
        "contagem_valores_unicos = df.nunique()\n",
        "\n",
        "print(f\"Contagem de valores únicos em cada coluna: \\n{contagem_valores_unicos}\")"
      ]
    },
    {
      "cell_type": "markdown",
      "metadata": {
        "id": "_nHEL_9uouE_"
      },
      "source": [
        "Verificando informações gerais do df"
      ]
    },
    {
      "cell_type": "code",
      "execution_count": 65,
      "metadata": {
        "colab": {
          "base_uri": "https://localhost:8080/"
        },
        "id": "OK8ytImNm1ua",
        "outputId": "be9989e2-f0dc-4a13-a25e-fa8d32beb8ad"
      },
      "outputs": [
        {
          "name": "stdout",
          "output_type": "stream",
          "text": [
            "<class 'pandas.core.frame.DataFrame'>\n",
            "RangeIndex: 663522 entries, 0 to 663521\n",
            "Data columns (total 9 columns):\n",
            " #   Column     Non-Null Count   Dtype  \n",
            "---  ------     --------------   -----  \n",
            " 0   lat        663522 non-null  float64\n",
            " 1   lng        663522 non-null  float64\n",
            " 2   desc       663522 non-null  object \n",
            " 3   zip        583323 non-null  float64\n",
            " 4   title      663522 non-null  object \n",
            " 5   timeStamp  663522 non-null  object \n",
            " 6   twp        663229 non-null  object \n",
            " 7   addr       663522 non-null  object \n",
            " 8   e          663522 non-null  int64  \n",
            "dtypes: float64(3), int64(1), object(5)\n",
            "memory usage: 45.6+ MB\n"
          ]
        }
      ],
      "source": [
        "df.info()"
      ]
    },
    {
      "cell_type": "markdown",
      "metadata": {
        "id": "aY0QPK7Gox50"
      },
      "source": [
        "Visão geral das estrutura dos dados"
      ]
    },
    {
      "cell_type": "code",
      "execution_count": 66,
      "metadata": {
        "colab": {
          "base_uri": "https://localhost:8080/",
          "height": 0
        },
        "id": "yGGV1Tpoj3q9",
        "outputId": "85822753-4ad0-419e-8ce7-60e6cf3cc5a4"
      },
      "outputs": [
        {
          "data": {
            "text/html": [
              "\n",
              "\n",
              "  <div id=\"df-de9834a4-5781-4745-917e-891e8a18176c\">\n",
              "    <div class=\"colab-df-container\">\n",
              "      <div>\n",
              "<style scoped>\n",
              "    .dataframe tbody tr th:only-of-type {\n",
              "        vertical-align: middle;\n",
              "    }\n",
              "\n",
              "    .dataframe tbody tr th {\n",
              "        vertical-align: top;\n",
              "    }\n",
              "\n",
              "    .dataframe thead th {\n",
              "        text-align: right;\n",
              "    }\n",
              "</style>\n",
              "<table border=\"1\" class=\"dataframe\">\n",
              "  <thead>\n",
              "    <tr style=\"text-align: right;\">\n",
              "      <th></th>\n",
              "      <th>lat</th>\n",
              "      <th>lng</th>\n",
              "      <th>desc</th>\n",
              "      <th>zip</th>\n",
              "      <th>title</th>\n",
              "      <th>timeStamp</th>\n",
              "      <th>twp</th>\n",
              "      <th>addr</th>\n",
              "      <th>e</th>\n",
              "    </tr>\n",
              "  </thead>\n",
              "  <tbody>\n",
              "    <tr>\n",
              "      <th>0</th>\n",
              "      <td>40.297876</td>\n",
              "      <td>-75.581294</td>\n",
              "      <td>REINDEER CT &amp; DEAD END;  NEW HANOVER; Station ...</td>\n",
              "      <td>19525.0</td>\n",
              "      <td>EMS: BACK PAINS/INJURY</td>\n",
              "      <td>2015-12-10 17:10:52</td>\n",
              "      <td>NEW HANOVER</td>\n",
              "      <td>REINDEER CT &amp; DEAD END</td>\n",
              "      <td>1</td>\n",
              "    </tr>\n",
              "    <tr>\n",
              "      <th>1</th>\n",
              "      <td>40.258061</td>\n",
              "      <td>-75.264680</td>\n",
              "      <td>BRIAR PATH &amp; WHITEMARSH LN;  HATFIELD TOWNSHIP...</td>\n",
              "      <td>19446.0</td>\n",
              "      <td>EMS: DIABETIC EMERGENCY</td>\n",
              "      <td>2015-12-10 17:29:21</td>\n",
              "      <td>HATFIELD TOWNSHIP</td>\n",
              "      <td>BRIAR PATH &amp; WHITEMARSH LN</td>\n",
              "      <td>1</td>\n",
              "    </tr>\n",
              "    <tr>\n",
              "      <th>2</th>\n",
              "      <td>40.121182</td>\n",
              "      <td>-75.351975</td>\n",
              "      <td>HAWS AVE; NORRISTOWN; 2015-12-10 @ 14:39:21-St...</td>\n",
              "      <td>19401.0</td>\n",
              "      <td>Fire: GAS-ODOR/LEAK</td>\n",
              "      <td>2015-12-10 14:39:21</td>\n",
              "      <td>NORRISTOWN</td>\n",
              "      <td>HAWS AVE</td>\n",
              "      <td>1</td>\n",
              "    </tr>\n",
              "    <tr>\n",
              "      <th>3</th>\n",
              "      <td>40.116153</td>\n",
              "      <td>-75.343513</td>\n",
              "      <td>AIRY ST &amp; SWEDE ST;  NORRISTOWN; Station 308A;...</td>\n",
              "      <td>19401.0</td>\n",
              "      <td>EMS: CARDIAC EMERGENCY</td>\n",
              "      <td>2015-12-10 16:47:36</td>\n",
              "      <td>NORRISTOWN</td>\n",
              "      <td>AIRY ST &amp; SWEDE ST</td>\n",
              "      <td>1</td>\n",
              "    </tr>\n",
              "    <tr>\n",
              "      <th>4</th>\n",
              "      <td>40.251492</td>\n",
              "      <td>-75.603350</td>\n",
              "      <td>CHERRYWOOD CT &amp; DEAD END;  LOWER POTTSGROVE; S...</td>\n",
              "      <td>NaN</td>\n",
              "      <td>EMS: DIZZINESS</td>\n",
              "      <td>2015-12-10 16:56:52</td>\n",
              "      <td>LOWER POTTSGROVE</td>\n",
              "      <td>CHERRYWOOD CT &amp; DEAD END</td>\n",
              "      <td>1</td>\n",
              "    </tr>\n",
              "  </tbody>\n",
              "</table>\n",
              "</div>\n",
              "      <button class=\"colab-df-convert\" onclick=\"convertToInteractive('df-de9834a4-5781-4745-917e-891e8a18176c')\"\n",
              "              title=\"Convert this dataframe to an interactive table.\"\n",
              "              style=\"display:none;\">\n",
              "\n",
              "  <svg xmlns=\"http://www.w3.org/2000/svg\" height=\"24px\"viewBox=\"0 0 24 24\"\n",
              "       width=\"24px\">\n",
              "    <path d=\"M0 0h24v24H0V0z\" fill=\"none\"/>\n",
              "    <path d=\"M18.56 5.44l.94 2.06.94-2.06 2.06-.94-2.06-.94-.94-2.06-.94 2.06-2.06.94zm-11 1L8.5 8.5l.94-2.06 2.06-.94-2.06-.94L8.5 2.5l-.94 2.06-2.06.94zm10 10l.94 2.06.94-2.06 2.06-.94-2.06-.94-.94-2.06-.94 2.06-2.06.94z\"/><path d=\"M17.41 7.96l-1.37-1.37c-.4-.4-.92-.59-1.43-.59-.52 0-1.04.2-1.43.59L10.3 9.45l-7.72 7.72c-.78.78-.78 2.05 0 2.83L4 21.41c.39.39.9.59 1.41.59.51 0 1.02-.2 1.41-.59l7.78-7.78 2.81-2.81c.8-.78.8-2.07 0-2.86zM5.41 20L4 18.59l7.72-7.72 1.47 1.35L5.41 20z\"/>\n",
              "  </svg>\n",
              "      </button>\n",
              "\n",
              "\n",
              "\n",
              "    <div id=\"df-4233b8bc-ea62-418e-8a23-c87b3a86e936\">\n",
              "      <button class=\"colab-df-quickchart\" onclick=\"quickchart('df-4233b8bc-ea62-418e-8a23-c87b3a86e936')\"\n",
              "              title=\"Suggest charts.\"\n",
              "              style=\"display:none;\">\n",
              "\n",
              "<svg xmlns=\"http://www.w3.org/2000/svg\" height=\"24px\"viewBox=\"0 0 24 24\"\n",
              "     width=\"24px\">\n",
              "    <g>\n",
              "        <path d=\"M19 3H5c-1.1 0-2 .9-2 2v14c0 1.1.9 2 2 2h14c1.1 0 2-.9 2-2V5c0-1.1-.9-2-2-2zM9 17H7v-7h2v7zm4 0h-2V7h2v10zm4 0h-2v-4h2v4z\"/>\n",
              "    </g>\n",
              "</svg>\n",
              "      </button>\n",
              "    </div>\n",
              "\n",
              "<style>\n",
              "  .colab-df-quickchart {\n",
              "    background-color: #E8F0FE;\n",
              "    border: none;\n",
              "    border-radius: 50%;\n",
              "    cursor: pointer;\n",
              "    display: none;\n",
              "    fill: #1967D2;\n",
              "    height: 32px;\n",
              "    padding: 0 0 0 0;\n",
              "    width: 32px;\n",
              "  }\n",
              "\n",
              "  .colab-df-quickchart:hover {\n",
              "    background-color: #E2EBFA;\n",
              "    box-shadow: 0px 1px 2px rgba(60, 64, 67, 0.3), 0px 1px 3px 1px rgba(60, 64, 67, 0.15);\n",
              "    fill: #174EA6;\n",
              "  }\n",
              "\n",
              "  [theme=dark] .colab-df-quickchart {\n",
              "    background-color: #3B4455;\n",
              "    fill: #D2E3FC;\n",
              "  }\n",
              "\n",
              "  [theme=dark] .colab-df-quickchart:hover {\n",
              "    background-color: #434B5C;\n",
              "    box-shadow: 0px 1px 3px 1px rgba(0, 0, 0, 0.15);\n",
              "    filter: drop-shadow(0px 1px 2px rgba(0, 0, 0, 0.3));\n",
              "    fill: #FFFFFF;\n",
              "  }\n",
              "</style>\n",
              "\n",
              "    <script>\n",
              "      async function quickchart(key) {\n",
              "        const containerElement = document.querySelector('#' + key);\n",
              "        const charts = await google.colab.kernel.invokeFunction(\n",
              "            'suggestCharts', [key], {});\n",
              "      }\n",
              "    </script>\n",
              "\n",
              "      <script>\n",
              "\n",
              "function displayQuickchartButton(domScope) {\n",
              "  let quickchartButtonEl =\n",
              "    domScope.querySelector('#df-4233b8bc-ea62-418e-8a23-c87b3a86e936 button.colab-df-quickchart');\n",
              "  quickchartButtonEl.style.display =\n",
              "    google.colab.kernel.accessAllowed ? 'block' : 'none';\n",
              "}\n",
              "\n",
              "        displayQuickchartButton(document);\n",
              "      </script>\n",
              "      <style>\n",
              "    .colab-df-container {\n",
              "      display:flex;\n",
              "      flex-wrap:wrap;\n",
              "      gap: 12px;\n",
              "    }\n",
              "\n",
              "    .colab-df-convert {\n",
              "      background-color: #E8F0FE;\n",
              "      border: none;\n",
              "      border-radius: 50%;\n",
              "      cursor: pointer;\n",
              "      display: none;\n",
              "      fill: #1967D2;\n",
              "      height: 32px;\n",
              "      padding: 0 0 0 0;\n",
              "      width: 32px;\n",
              "    }\n",
              "\n",
              "    .colab-df-convert:hover {\n",
              "      background-color: #E2EBFA;\n",
              "      box-shadow: 0px 1px 2px rgba(60, 64, 67, 0.3), 0px 1px 3px 1px rgba(60, 64, 67, 0.15);\n",
              "      fill: #174EA6;\n",
              "    }\n",
              "\n",
              "    [theme=dark] .colab-df-convert {\n",
              "      background-color: #3B4455;\n",
              "      fill: #D2E3FC;\n",
              "    }\n",
              "\n",
              "    [theme=dark] .colab-df-convert:hover {\n",
              "      background-color: #434B5C;\n",
              "      box-shadow: 0px 1px 3px 1px rgba(0, 0, 0, 0.15);\n",
              "      filter: drop-shadow(0px 1px 2px rgba(0, 0, 0, 0.3));\n",
              "      fill: #FFFFFF;\n",
              "    }\n",
              "  </style>\n",
              "\n",
              "      <script>\n",
              "        const buttonEl =\n",
              "          document.querySelector('#df-de9834a4-5781-4745-917e-891e8a18176c button.colab-df-convert');\n",
              "        buttonEl.style.display =\n",
              "          google.colab.kernel.accessAllowed ? 'block' : 'none';\n",
              "\n",
              "        async function convertToInteractive(key) {\n",
              "          const element = document.querySelector('#df-de9834a4-5781-4745-917e-891e8a18176c');\n",
              "          const dataTable =\n",
              "            await google.colab.kernel.invokeFunction('convertToInteractive',\n",
              "                                                     [key], {});\n",
              "          if (!dataTable) return;\n",
              "\n",
              "          const docLinkHtml = 'Like what you see? Visit the ' +\n",
              "            '<a target=\"_blank\" href=https://colab.research.google.com/notebooks/data_table.ipynb>data table notebook</a>'\n",
              "            + ' to learn more about interactive tables.';\n",
              "          element.innerHTML = '';\n",
              "          dataTable['output_type'] = 'display_data';\n",
              "          await google.colab.output.renderOutput(dataTable, element);\n",
              "          const docLink = document.createElement('div');\n",
              "          docLink.innerHTML = docLinkHtml;\n",
              "          element.appendChild(docLink);\n",
              "        }\n",
              "      </script>\n",
              "    </div>\n",
              "  </div>\n"
            ],
            "text/plain": [
              "         lat        lng                                               desc  \\\n",
              "0  40.297876 -75.581294  REINDEER CT & DEAD END;  NEW HANOVER; Station ...   \n",
              "1  40.258061 -75.264680  BRIAR PATH & WHITEMARSH LN;  HATFIELD TOWNSHIP...   \n",
              "2  40.121182 -75.351975  HAWS AVE; NORRISTOWN; 2015-12-10 @ 14:39:21-St...   \n",
              "3  40.116153 -75.343513  AIRY ST & SWEDE ST;  NORRISTOWN; Station 308A;...   \n",
              "4  40.251492 -75.603350  CHERRYWOOD CT & DEAD END;  LOWER POTTSGROVE; S...   \n",
              "\n",
              "       zip                    title            timeStamp                twp  \\\n",
              "0  19525.0   EMS: BACK PAINS/INJURY  2015-12-10 17:10:52        NEW HANOVER   \n",
              "1  19446.0  EMS: DIABETIC EMERGENCY  2015-12-10 17:29:21  HATFIELD TOWNSHIP   \n",
              "2  19401.0      Fire: GAS-ODOR/LEAK  2015-12-10 14:39:21         NORRISTOWN   \n",
              "3  19401.0   EMS: CARDIAC EMERGENCY  2015-12-10 16:47:36         NORRISTOWN   \n",
              "4      NaN           EMS: DIZZINESS  2015-12-10 16:56:52   LOWER POTTSGROVE   \n",
              "\n",
              "                         addr  e  \n",
              "0      REINDEER CT & DEAD END  1  \n",
              "1  BRIAR PATH & WHITEMARSH LN  1  \n",
              "2                    HAWS AVE  1  \n",
              "3          AIRY ST & SWEDE ST  1  \n",
              "4    CHERRYWOOD CT & DEAD END  1  "
            ]
          },
          "execution_count": 66,
          "metadata": {},
          "output_type": "execute_result"
        }
      ],
      "source": [
        "df.head()"
      ]
    },
    {
      "cell_type": "markdown",
      "metadata": {
        "id": "_jN4bUHJnJgo"
      },
      "source": [
        "## Tratamento nível 1\n",
        "1. Criação de novas variáveis\n",
        "2. Adequação dos types das variáveis\n",
        "---\n",
        "\n"
      ]
    },
    {
      "cell_type": "markdown",
      "metadata": {
        "id": "ZboTKHyfpHKl"
      },
      "source": [
        "Transformando a variável 'timeStamp' para um formato de data"
      ]
    },
    {
      "cell_type": "code",
      "execution_count": 67,
      "metadata": {
        "colab": {
          "base_uri": "https://localhost:8080/"
        },
        "id": "104P3ovZpFWH",
        "outputId": "c26a76d6-2ad9-4de6-a459-94d227580d1b"
      },
      "outputs": [
        {
          "data": {
            "text/plain": [
              "0        2015-12-10 17:10:52\n",
              "1        2015-12-10 17:29:21\n",
              "2        2015-12-10 14:39:21\n",
              "3        2015-12-10 16:47:36\n",
              "4        2015-12-10 16:56:52\n",
              "                 ...        \n",
              "663517   2020-07-29 15:46:51\n",
              "663518   2020-07-29 15:52:19\n",
              "663519   2020-07-29 15:52:52\n",
              "663520   2020-07-29 15:54:08\n",
              "663521   2020-07-29 15:52:46\n",
              "Name: timeStamp, Length: 663522, dtype: datetime64[ns]"
            ]
          },
          "execution_count": 67,
          "metadata": {},
          "output_type": "execute_result"
        }
      ],
      "source": [
        "df['timeStamp'] = pd.to_datetime(df['timeStamp'])\n",
        "df['timeStamp']"
      ]
    },
    {
      "cell_type": "markdown",
      "metadata": {
        "id": "yK4sDqHQsH3s"
      },
      "source": [
        "Criaremos 4 novas variaveis chamadas hour, month e day_of_week, date (hora, mês, dia da semana, data)"
      ]
    },
    {
      "cell_type": "code",
      "execution_count": 68,
      "metadata": {
        "id": "ZEiklSV4q7bf"
      },
      "outputs": [],
      "source": [
        "df['hour'] = df['timeStamp'].apply(lambda x: x.hour)\n",
        "df['month'] = df['timeStamp'].apply(lambda x: x.month)\n",
        "df['day_of_week'] = df['timeStamp'].apply(lambda x: x.dayofweek)\n",
        "df['date'] = df['timeStamp'].apply(lambda x:x.date())"
      ]
    },
    {
      "cell_type": "code",
      "execution_count": 69,
      "metadata": {
        "colab": {
          "base_uri": "https://localhost:8080/"
        },
        "id": "I7u7bAmYsHcQ",
        "outputId": "bee10ef4-d0f5-425c-89b4-f4fbd52ba291"
      },
      "outputs": [
        {
          "data": {
            "text/plain": [
              "4    102942\n",
              "2     99157\n",
              "3     98683\n",
              "1     97684\n",
              "0     96745\n",
              "5     89452\n",
              "6     78859\n",
              "Name: day_of_week, dtype: int64"
            ]
          },
          "execution_count": 69,
          "metadata": {},
          "output_type": "execute_result"
        }
      ],
      "source": [
        "df['day_of_week'].value_counts()"
      ]
    },
    {
      "cell_type": "markdown",
      "metadata": {
        "id": "QrdfwHwPs3R4"
      },
      "source": [
        "Como a variável 'Day of Week' criada vem como padrão quantitativa, vamos  adicionar um outra variável categórica para fins de estudos chamada 'str_day_of_week'"
      ]
    },
    {
      "cell_type": "code",
      "execution_count": 70,
      "metadata": {
        "id": "RSfv29cBsa_5"
      },
      "outputs": [],
      "source": [
        "dias_semana = ['Monday', 'Tuesday', 'Wednesday', 'Thursday', 'Friday', 'Saturday', 'Sunday']\n",
        "df['str_day_of_week'] = df['day_of_week'].map(dict(enumerate(dias_semana)))"
      ]
    },
    {
      "cell_type": "code",
      "execution_count": 71,
      "metadata": {
        "colab": {
          "base_uri": "https://localhost:8080/"
        },
        "id": "Aaln-vaht4Br",
        "outputId": "896544ce-1785-4360-9762-71f94c84cc1e"
      },
      "outputs": [
        {
          "data": {
            "text/plain": [
              "Friday       102942\n",
              "Wednesday     99157\n",
              "Thursday      98683\n",
              "Tuesday       97684\n",
              "Monday        96745\n",
              "Saturday      89452\n",
              "Sunday        78859\n",
              "Name: str_day_of_week, dtype: int64"
            ]
          },
          "execution_count": 71,
          "metadata": {},
          "output_type": "execute_result"
        }
      ],
      "source": [
        "df['str_day_of_week'].value_counts()"
      ]
    },
    {
      "cell_type": "markdown",
      "metadata": {
        "id": "pPXTiMXZuvHe"
      },
      "source": [
        "Vamos criar também uma variável chamada 'reason' (motivo) que trará a razão generalizada da chamada. Essa informação vem da variável Title vide exemplo:\n",
        "* EMS: BACK PAINS/INJURY\n",
        "\n",
        "---\n",
        "\n",
        "\n",
        "obs: EMS = Emergency Medical Services"
      ]
    },
    {
      "cell_type": "code",
      "execution_count": 72,
      "metadata": {
        "id": "eBEYBVLzuhm9"
      },
      "outputs": [],
      "source": [
        "df['reason'] = df['title'].str.split(':').str.get(0)\n",
        "# aqui não foi utilizado o método map, devido a certeza de transformação entre str, sendo o metodo str.split() mais performático nesse caso em específico"
      ]
    },
    {
      "cell_type": "code",
      "execution_count": 73,
      "metadata": {
        "colab": {
          "base_uri": "https://localhost:8080/"
        },
        "id": "WxVy0MHTwIXx",
        "outputId": "dd743cc2-8e7f-4046-aa81-eb9340e75ab5"
      },
      "outputs": [
        {
          "data": {
            "text/plain": [
              "EMS        332692\n",
              "Traffic    230208\n",
              "Fire       100622\n",
              "Name: reason, dtype: int64"
            ]
          },
          "execution_count": 73,
          "metadata": {},
          "output_type": "execute_result"
        }
      ],
      "source": [
        "df['reason'].value_counts()"
      ]
    },
    {
      "cell_type": "markdown",
      "metadata": {
        "id": "3VQMkC9apF_h"
      },
      "source": [
        "## Tratamento nível 2\n",
        "1. Exclusão de variáveis indesejadas\n"
      ]
    },
    {
      "cell_type": "markdown",
      "metadata": {
        "id": "SBeGoYWKqJJG"
      },
      "source": [
        "Retirando a variável dummy 'e'\n"
      ]
    },
    {
      "cell_type": "code",
      "execution_count": 74,
      "metadata": {
        "id": "-6FXPeIrqIp6"
      },
      "outputs": [],
      "source": [
        "# df = df.drop('e', axis=1)\n",
        "# df.columns"
      ]
    },
    {
      "cell_type": "markdown",
      "metadata": {
        "id": "Zlcu0bOwwnl1"
      },
      "source": [
        "## Análise exploratória"
      ]
    },
    {
      "cell_type": "markdown",
      "metadata": {
        "id": "jyMAbyMmwtcT"
      },
      "source": [
        "* Top 5 municípios"
      ]
    },
    {
      "cell_type": "code",
      "execution_count": 75,
      "metadata": {
        "colab": {
          "base_uri": "https://localhost:8080/"
        },
        "id": "7qj0_JDvxUVp",
        "outputId": "8279f19d-6476-42ca-d347-0ff97dc6245f"
      },
      "outputs": [
        {
          "data": {
            "text/plain": [
              "LOWER MERION    55490\n",
              "ABINGTON        39947\n",
              "NORRISTOWN      37633\n",
              "UPPER MERION    36010\n",
              "CHELTENHAM      30574\n",
              "Name: twp, dtype: int64"
            ]
          },
          "execution_count": 75,
          "metadata": {},
          "output_type": "execute_result"
        }
      ],
      "source": [
        "df['twp'].value_counts().head()"
      ]
    },
    {
      "cell_type": "markdown",
      "metadata": {
        "id": "K0pJOGw5xbzt"
      },
      "source": [
        "* Distribuição dos motivos (reasons)"
      ]
    },
    {
      "cell_type": "code",
      "execution_count": 76,
      "metadata": {
        "colab": {
          "base_uri": "https://localhost:8080/",
          "height": 466
        },
        "id": "yDO5fJfKxb8Z",
        "outputId": "b18d2996-c66d-44e2-b676-6f823ff6239c"
      },
      "outputs": [
        {
          "data": {
            "text/plain": [
              "<Axes: xlabel='reason', ylabel='count'>"
            ]
          },
          "execution_count": 76,
          "metadata": {},
          "output_type": "execute_result"
        },
        {
          "data": {
            "image/png": "[encoded data removed]",
            "text/plain": [
              "<Figure size 640x480 with 1 Axes>"
            ]
          },
          "metadata": {},
          "output_type": "display_data"
        }
      ],
      "source": [
        "sns.countplot(data=df, x='reason')"
      ]
    },
    {
      "cell_type": "markdown",
      "metadata": {
        "id": "VzbtdoZ30x9s"
      },
      "source": [
        "* Distribuição dos motivos por dia da semana"
      ]
    },
    {
      "cell_type": "code",
      "execution_count": 77,
      "metadata": {
        "colab": {
          "base_uri": "https://localhost:8080/",
          "height": 467
        },
        "id": "3EPwEBuB0yGY",
        "outputId": "b81f11f3-c851-47de-a008-41f7bf2a283e"
      },
      "outputs": [
        {
          "data": {
            "text/plain": [
              "<matplotlib.legend.Legend at 0x7f9a3b1e6da0>"
            ]
          },
          "execution_count": 77,
          "metadata": {},
          "output_type": "execute_result"
        },
        {
          "data": {
            "image/png": "[encoded data removed]",
            "text/plain": [
              "<Figure size 640x480 with 1 Axes>"
            ]
          },
          "metadata": {},
          "output_type": "display_data"
        }
      ],
      "source": [
        "# Definir a ordem das categorias\n",
        "ordem_dias_semana = pd.Categorical(dias_semana, categories=dias_semana, ordered=True)\n",
        "\n",
        "sns.countplot(x='str_day_of_week', data=df, hue='reason', order=ordem_dias_semana)\n",
        "plt.legend(bbox_to_anchor=(1.05, 1), loc=2, borderaxespad=0.)"
      ]
    },
    {
      "cell_type": "markdown",
      "metadata": {
        "id": "QGAjkejZ0-qs"
      },
      "source": [
        "* Distribuição dos motivos por mês"
      ]
    },
    {
      "cell_type": "code",
      "execution_count": 78,
      "metadata": {
        "colab": {
          "base_uri": "https://localhost:8080/",
          "height": 0
        },
        "id": "6GbwXnEN0-0_",
        "outputId": "99bd7787-0dcd-4330-b9c4-b871afb21ec3"
      },
      "outputs": [
        {
          "data": {
            "text/plain": [
              "<matplotlib.legend.Legend at 0x7f9a3d9df3d0>"
            ]
          },
          "execution_count": 78,
          "metadata": {},
          "output_type": "execute_result"
        },
        {
          "data": {
            "image/png": "[encoded data removed]",
            "text/plain": [
              "<Figure size 640x480 with 1 Axes>"
            ]
          },
          "metadata": {},
          "output_type": "display_data"
        }
      ],
      "source": [
        "sns.countplot(x='month', data=df, hue='reason')\n",
        "plt.legend(bbox_to_anchor=(1.05, 1), loc=2, borderaxespad=0.)"
      ]
    },
    {
      "cell_type": "markdown",
      "metadata": {
        "id": "9iEjI1uR1Aho"
      },
      "source": [
        "* Distribuição dos motivos por horas do dia"
      ]
    },
    {
      "cell_type": "code",
      "execution_count": 79,
      "metadata": {
        "colab": {
          "base_uri": "https://localhost:8080/",
          "height": 0
        },
        "id": "xOKMty0v0_m5",
        "outputId": "3724e528-c5a0-4ea4-f3cf-02b42b2b9a50"
      },
      "outputs": [
        {
          "data": {
            "text/plain": [
              "<matplotlib.legend.Legend at 0x7f9a1317ece0>"
            ]
          },
          "execution_count": 79,
          "metadata": {},
          "output_type": "execute_result"
        },
        {
          "data": {
            "image/png": "[encoded data removed]",
            "text/plain": [
              "<Figure size 640x480 with 1 Axes>"
            ]
          },
          "metadata": {},
          "output_type": "display_data"
        }
      ],
      "source": [
        "sns.countplot(x='hour', data=df, hue='reason')\n",
        "plt.legend(bbox_to_anchor=(1.05, 1), loc=2, borderaxespad=0.)"
      ]
    },
    {
      "cell_type": "markdown",
      "metadata": {
        "id": "fx0-eMY34dvi"
      },
      "source": [
        "## Visualização de padrões por mapa de calor"
      ]
    },
    {
      "cell_type": "markdown",
      "metadata": {
        "id": "PIqbZTbn6Alp"
      },
      "source": [
        "### Reorganização dos dados para coluna(horas) e linha(dia da semana)"
      ]
    },
    {
      "cell_type": "code",
      "execution_count": 80,
      "metadata": {
        "colab": {
          "base_uri": "https://localhost:8080/",
          "height": 0
        },
        "id": "otfwKQnS3WAV",
        "outputId": "54edcec7-edfd-4c04-8fca-f26e61760347"
      },
      "outputs": [
        {
          "data": {
            "text/html": [
              "\n",
              "\n",
              "  <div id=\"df-91ba4bd3-3f3b-4e62-9f91-f5a5161c48f7\">\n",
              "    <div class=\"colab-df-container\">\n",
              "      <div>\n",
              "<style scoped>\n",
              "    .dataframe tbody tr th:only-of-type {\n",
              "        vertical-align: middle;\n",
              "    }\n",
              "\n",
              "    .dataframe tbody tr th {\n",
              "        vertical-align: top;\n",
              "    }\n",
              "\n",
              "    .dataframe thead th {\n",
              "        text-align: right;\n",
              "    }\n",
              "</style>\n",
              "<table border=\"1\" class=\"dataframe\">\n",
              "  <thead>\n",
              "    <tr style=\"text-align: right;\">\n",
              "      <th>hour</th>\n",
              "      <th>0</th>\n",
              "      <th>1</th>\n",
              "      <th>2</th>\n",
              "      <th>3</th>\n",
              "      <th>4</th>\n",
              "      <th>5</th>\n",
              "      <th>6</th>\n",
              "      <th>7</th>\n",
              "      <th>8</th>\n",
              "      <th>9</th>\n",
              "      <th>...</th>\n",
              "      <th>14</th>\n",
              "      <th>15</th>\n",
              "      <th>16</th>\n",
              "      <th>17</th>\n",
              "      <th>18</th>\n",
              "      <th>19</th>\n",
              "      <th>20</th>\n",
              "      <th>21</th>\n",
              "      <th>22</th>\n",
              "      <th>23</th>\n",
              "    </tr>\n",
              "    <tr>\n",
              "      <th>str_day_of_week</th>\n",
              "      <th></th>\n",
              "      <th></th>\n",
              "      <th></th>\n",
              "      <th></th>\n",
              "      <th></th>\n",
              "      <th></th>\n",
              "      <th></th>\n",
              "      <th></th>\n",
              "      <th></th>\n",
              "      <th></th>\n",
              "      <th></th>\n",
              "      <th></th>\n",
              "      <th></th>\n",
              "      <th></th>\n",
              "      <th></th>\n",
              "      <th></th>\n",
              "      <th></th>\n",
              "      <th></th>\n",
              "      <th></th>\n",
              "      <th></th>\n",
              "      <th></th>\n",
              "    </tr>\n",
              "  </thead>\n",
              "  <tbody>\n",
              "    <tr>\n",
              "      <th>Monday</th>\n",
              "      <td>1894</td>\n",
              "      <td>1571</td>\n",
              "      <td>1368</td>\n",
              "      <td>1272</td>\n",
              "      <td>1336</td>\n",
              "      <td>1844</td>\n",
              "      <td>2675</td>\n",
              "      <td>4430</td>\n",
              "      <td>5504</td>\n",
              "      <td>5724</td>\n",
              "      <td>...</td>\n",
              "      <td>5713</td>\n",
              "      <td>6289</td>\n",
              "      <td>6346</td>\n",
              "      <td>6408</td>\n",
              "      <td>5441</td>\n",
              "      <td>4488</td>\n",
              "      <td>3823</td>\n",
              "      <td>3254</td>\n",
              "      <td>2658</td>\n",
              "      <td>2072</td>\n",
              "    </tr>\n",
              "    <tr>\n",
              "      <th>Tuesday</th>\n",
              "      <td>1720</td>\n",
              "      <td>1459</td>\n",
              "      <td>1322</td>\n",
              "      <td>1213</td>\n",
              "      <td>1247</td>\n",
              "      <td>1741</td>\n",
              "      <td>2784</td>\n",
              "      <td>4425</td>\n",
              "      <td>5634</td>\n",
              "      <td>5566</td>\n",
              "      <td>...</td>\n",
              "      <td>5926</td>\n",
              "      <td>6252</td>\n",
              "      <td>6495</td>\n",
              "      <td>6883</td>\n",
              "      <td>5628</td>\n",
              "      <td>4621</td>\n",
              "      <td>3845</td>\n",
              "      <td>3409</td>\n",
              "      <td>2708</td>\n",
              "      <td>2137</td>\n",
              "    </tr>\n",
              "    <tr>\n",
              "      <th>Wednesday</th>\n",
              "      <td>1664</td>\n",
              "      <td>1484</td>\n",
              "      <td>1259</td>\n",
              "      <td>1265</td>\n",
              "      <td>1128</td>\n",
              "      <td>1609</td>\n",
              "      <td>2668</td>\n",
              "      <td>4644</td>\n",
              "      <td>5469</td>\n",
              "      <td>5444</td>\n",
              "      <td>...</td>\n",
              "      <td>6069</td>\n",
              "      <td>6533</td>\n",
              "      <td>6745</td>\n",
              "      <td>7062</td>\n",
              "      <td>5691</td>\n",
              "      <td>4686</td>\n",
              "      <td>4116</td>\n",
              "      <td>3537</td>\n",
              "      <td>2826</td>\n",
              "      <td>2207</td>\n",
              "    </tr>\n",
              "    <tr>\n",
              "      <th>Thursday</th>\n",
              "      <td>1731</td>\n",
              "      <td>1408</td>\n",
              "      <td>1426</td>\n",
              "      <td>1236</td>\n",
              "      <td>1293</td>\n",
              "      <td>1775</td>\n",
              "      <td>2816</td>\n",
              "      <td>4432</td>\n",
              "      <td>5297</td>\n",
              "      <td>5412</td>\n",
              "      <td>...</td>\n",
              "      <td>6079</td>\n",
              "      <td>6493</td>\n",
              "      <td>6375</td>\n",
              "      <td>6935</td>\n",
              "      <td>5512</td>\n",
              "      <td>4703</td>\n",
              "      <td>4045</td>\n",
              "      <td>3490</td>\n",
              "      <td>2844</td>\n",
              "      <td>2354</td>\n",
              "    </tr>\n",
              "    <tr>\n",
              "      <th>Friday</th>\n",
              "      <td>1983</td>\n",
              "      <td>1635</td>\n",
              "      <td>1449</td>\n",
              "      <td>1296</td>\n",
              "      <td>1339</td>\n",
              "      <td>1639</td>\n",
              "      <td>2670</td>\n",
              "      <td>4143</td>\n",
              "      <td>5018</td>\n",
              "      <td>5288</td>\n",
              "      <td>...</td>\n",
              "      <td>6394</td>\n",
              "      <td>7040</td>\n",
              "      <td>7065</td>\n",
              "      <td>7113</td>\n",
              "      <td>5668</td>\n",
              "      <td>5056</td>\n",
              "      <td>4375</td>\n",
              "      <td>3913</td>\n",
              "      <td>3422</td>\n",
              "      <td>2834</td>\n",
              "    </tr>\n",
              "  </tbody>\n",
              "</table>\n",
              "<p>5 rows × 24 columns</p>\n",
              "</div>\n",
              "      <button class=\"colab-df-convert\" onclick=\"convertToInteractive('df-91ba4bd3-3f3b-4e62-9f91-f5a5161c48f7')\"\n",
              "              title=\"Convert this dataframe to an interactive table.\"\n",
              "              style=\"display:none;\">\n",
              "\n",
              "  <svg xmlns=\"http://www.w3.org/2000/svg\" height=\"24px\"viewBox=\"0 0 24 24\"\n",
              "       width=\"24px\">\n",
              "    <path d=\"M0 0h24v24H0V0z\" fill=\"none\"/>\n",
              "    <path d=\"M18.56 5.44l.94 2.06.94-2.06 2.06-.94-2.06-.94-.94-2.06-.94 2.06-2.06.94zm-11 1L8.5 8.5l.94-2.06 2.06-.94-2.06-.94L8.5 2.5l-.94 2.06-2.06.94zm10 10l.94 2.06.94-2.06 2.06-.94-2.06-.94-.94-2.06-.94 2.06-2.06.94z\"/><path d=\"M17.41 7.96l-1.37-1.37c-.4-.4-.92-.59-1.43-.59-.52 0-1.04.2-1.43.59L10.3 9.45l-7.72 7.72c-.78.78-.78 2.05 0 2.83L4 21.41c.39.39.9.59 1.41.59.51 0 1.02-.2 1.41-.59l7.78-7.78 2.81-2.81c.8-.78.8-2.07 0-2.86zM5.41 20L4 18.59l7.72-7.72 1.47 1.35L5.41 20z\"/>\n",
              "  </svg>\n",
              "      </button>\n",
              "\n",
              "\n",
              "\n",
              "    <div id=\"df-3fd2e4c9-ab81-4492-844d-6d13ec51c11f\">\n",
              "      <button class=\"colab-df-quickchart\" onclick=\"quickchart('df-3fd2e4c9-ab81-4492-844d-6d13ec51c11f')\"\n",
              "              title=\"Suggest charts.\"\n",
              "              style=\"display:none;\">\n",
              "\n",
              "<svg xmlns=\"http://www.w3.org/2000/svg\" height=\"24px\"viewBox=\"0 0 24 24\"\n",
              "     width=\"24px\">\n",
              "    <g>\n",
              "        <path d=\"M19 3H5c-1.1 0-2 .9-2 2v14c0 1.1.9 2 2 2h14c1.1 0 2-.9 2-2V5c0-1.1-.9-2-2-2zM9 17H7v-7h2v7zm4 0h-2V7h2v10zm4 0h-2v-4h2v4z\"/>\n",
              "    </g>\n",
              "</svg>\n",
              "      </button>\n",
              "    </div>\n",
              "\n",
              "<style>\n",
              "  .colab-df-quickchart {\n",
              "    background-color: #E8F0FE;\n",
              "    border: none;\n",
              "    border-radius: 50%;\n",
              "    cursor: pointer;\n",
              "    display: none;\n",
              "    fill: #1967D2;\n",
              "    height: 32px;\n",
              "    padding: 0 0 0 0;\n",
              "    width: 32px;\n",
              "  }\n",
              "\n",
              "  .colab-df-quickchart:hover {\n",
              "    background-color: #E2EBFA;\n",
              "    box-shadow: 0px 1px 2px rgba(60, 64, 67, 0.3), 0px 1px 3px 1px rgba(60, 64, 67, 0.15);\n",
              "    fill: #174EA6;\n",
              "  }\n",
              "\n",
              "  [theme=dark] .colab-df-quickchart {\n",
              "    background-color: #3B4455;\n",
              "    fill: #D2E3FC;\n",
              "  }\n",
              "\n",
              "  [theme=dark] .colab-df-quickchart:hover {\n",
              "    background-color: #434B5C;\n",
              "    box-shadow: 0px 1px 3px 1px rgba(0, 0, 0, 0.15);\n",
              "    filter: drop-shadow(0px 1px 2px rgba(0, 0, 0, 0.3));\n",
              "    fill: #FFFFFF;\n",
              "  }\n",
              "</style>\n",
              "\n",
              "    <script>\n",
              "      async function quickchart(key) {\n",
              "        const containerElement = document.querySelector('#' + key);\n",
              "        const charts = await google.colab.kernel.invokeFunction(\n",
              "            'suggestCharts', [key], {});\n",
              "      }\n",
              "    </script>\n",
              "\n",
              "      <script>\n",
              "\n",
              "function displayQuickchartButton(domScope) {\n",
              "  let quickchartButtonEl =\n",
              "    domScope.querySelector('#df-3fd2e4c9-ab81-4492-844d-6d13ec51c11f button.colab-df-quickchart');\n",
              "  quickchartButtonEl.style.display =\n",
              "    google.colab.kernel.accessAllowed ? 'block' : 'none';\n",
              "}\n",
              "\n",
              "        displayQuickchartButton(document);\n",
              "      </script>\n",
              "      <style>\n",
              "    .colab-df-container {\n",
              "      display:flex;\n",
              "      flex-wrap:wrap;\n",
              "      gap: 12px;\n",
              "    }\n",
              "\n",
              "    .colab-df-convert {\n",
              "      background-color: #E8F0FE;\n",
              "      border: none;\n",
              "      border-radius: 50%;\n",
              "      cursor: pointer;\n",
              "      display: none;\n",
              "      fill: #1967D2;\n",
              "      height: 32px;\n",
              "      padding: 0 0 0 0;\n",
              "      width: 32px;\n",
              "    }\n",
              "\n",
              "    .colab-df-convert:hover {\n",
              "      background-color: #E2EBFA;\n",
              "      box-shadow: 0px 1px 2px rgba(60, 64, 67, 0.3), 0px 1px 3px 1px rgba(60, 64, 67, 0.15);\n",
              "      fill: #174EA6;\n",
              "    }\n",
              "\n",
              "    [theme=dark] .colab-df-convert {\n",
              "      background-color: #3B4455;\n",
              "      fill: #D2E3FC;\n",
              "    }\n",
              "\n",
              "    [theme=dark] .colab-df-convert:hover {\n",
              "      background-color: #434B5C;\n",
              "      box-shadow: 0px 1px 3px 1px rgba(0, 0, 0, 0.15);\n",
              "      filter: drop-shadow(0px 1px 2px rgba(0, 0, 0, 0.3));\n",
              "      fill: #FFFFFF;\n",
              "    }\n",
              "  </style>\n",
              "\n",
              "      <script>\n",
              "        const buttonEl =\n",
              "          document.querySelector('#df-91ba4bd3-3f3b-4e62-9f91-f5a5161c48f7 button.colab-df-convert');\n",
              "        buttonEl.style.display =\n",
              "          google.colab.kernel.accessAllowed ? 'block' : 'none';\n",
              "\n",
              "        async function convertToInteractive(key) {\n",
              "          const element = document.querySelector('#df-91ba4bd3-3f3b-4e62-9f91-f5a5161c48f7');\n",
              "          const dataTable =\n",
              "            await google.colab.kernel.invokeFunction('convertToInteractive',\n",
              "                                                     [key], {});\n",
              "          if (!dataTable) return;\n",
              "\n",
              "          const docLinkHtml = 'Like what you see? Visit the ' +\n",
              "            '<a target=\"_blank\" href=https://colab.research.google.com/notebooks/data_table.ipynb>data table notebook</a>'\n",
              "            + ' to learn more about interactive tables.';\n",
              "          element.innerHTML = '';\n",
              "          dataTable['output_type'] = 'display_data';\n",
              "          await google.colab.output.renderOutput(dataTable, element);\n",
              "          const docLink = document.createElement('div');\n",
              "          docLink.innerHTML = docLinkHtml;\n",
              "          element.appendChild(docLink);\n",
              "        }\n",
              "      </script>\n",
              "    </div>\n",
              "  </div>\n"
            ],
            "text/plain": [
              "hour               0     1     2     3     4     5     6     7     8     9   \\\n",
              "str_day_of_week                                                               \n",
              "Monday           1894  1571  1368  1272  1336  1844  2675  4430  5504  5724   \n",
              "Tuesday          1720  1459  1322  1213  1247  1741  2784  4425  5634  5566   \n",
              "Wednesday        1664  1484  1259  1265  1128  1609  2668  4644  5469  5444   \n",
              "Thursday         1731  1408  1426  1236  1293  1775  2816  4432  5297  5412   \n",
              "Friday           1983  1635  1449  1296  1339  1639  2670  4143  5018  5288   \n",
              "\n",
              "hour             ...    14    15    16    17    18    19    20    21    22  \\\n",
              "str_day_of_week  ...                                                         \n",
              "Monday           ...  5713  6289  6346  6408  5441  4488  3823  3254  2658   \n",
              "Tuesday          ...  5926  6252  6495  6883  5628  4621  3845  3409  2708   \n",
              "Wednesday        ...  6069  6533  6745  7062  5691  4686  4116  3537  2826   \n",
              "Thursday         ...  6079  6493  6375  6935  5512  4703  4045  3490  2844   \n",
              "Friday           ...  6394  7040  7065  7113  5668  5056  4375  3913  3422   \n",
              "\n",
              "hour               23  \n",
              "str_day_of_week        \n",
              "Monday           2072  \n",
              "Tuesday          2137  \n",
              "Wednesday        2207  \n",
              "Thursday         2354  \n",
              "Friday           2834  \n",
              "\n",
              "[5 rows x 24 columns]"
            ]
          },
          "execution_count": 80,
          "metadata": {},
          "output_type": "execute_result"
        }
      ],
      "source": [
        "df_day_hour = df.groupby(by=['str_day_of_week','hour']).count()['reason'].unstack()\n",
        "df_day_hour = df_day_hour.reindex(ordem_dias_semana)\n",
        "df_day_hour.head()"
      ]
    },
    {
      "cell_type": "markdown",
      "metadata": {
        "id": "E1mtz6tn5_uD"
      },
      "source": [
        "Heatmap para visualizar relação entre dias da semana e horas do dia"
      ]
    },
    {
      "cell_type": "code",
      "execution_count": 81,
      "metadata": {
        "colab": {
          "base_uri": "https://localhost:8080/",
          "height": 0
        },
        "id": "xYDi5gj_6S47",
        "outputId": "c22a3e4a-d507-4a42-81bb-50f3308b6beb"
      },
      "outputs": [
        {
          "data": {
            "text/plain": [
              "<Axes: xlabel='hour', ylabel='str_day_of_week'>"
            ]
          },
          "execution_count": 81,
          "metadata": {},
          "output_type": "execute_result"
        },
        {
          "data": {
            "image/png": "[encoded data removed]",
            "text/plain": [
              "<Figure size 1200x600 with 2 Axes>"
            ]
          },
          "metadata": {},
          "output_type": "display_data"
        }
      ],
      "source": [
        "plt.figure(figsize=(12, 6))\n",
        "sns.heatmap(data=df_day_hour, cmap='coolwarm')"
      ]
    },
    {
      "cell_type": "markdown",
      "metadata": {
        "id": "pqXtHoW66hIW"
      },
      "source": [
        "> Olhando o Heatmap, podemos observar que a maior quantidade de chamadas ocorre no periodo da tarde, normalmente entre os dias úteis da semana, tendo uma desaceleração nos finais de semana.\n",
        "\n"
      ]
    },
    {
      "cell_type": "markdown",
      "metadata": {
        "id": "QbO2YlUC-oWw"
      },
      "source": [
        "Para nos auxiliar ainda mais, podemos criar clusters dos dados, para melhor vizualização dos padrões"
      ]
    },
    {
      "cell_type": "code",
      "execution_count": 82,
      "metadata": {
        "colab": {
          "base_uri": "https://localhost:8080/",
          "height": 0
        },
        "id": "IqfF2JoO-odn",
        "outputId": "7bbc3561-1247-44b0-db36-5c4e6fc6888c"
      },
      "outputs": [
        {
          "data": {
            "text/plain": [
              "<seaborn.matrix.ClusterGrid at 0x7f9a133f85b0>"
            ]
          },
          "execution_count": 82,
          "metadata": {},
          "output_type": "execute_result"
        },
        {
          "data": {
            "image/png": "[encoded data removed]",
            "text/plain": [
              "<Figure size 1000x1000 with 4 Axes>"
            ]
          },
          "metadata": {},
          "output_type": "display_data"
        }
      ],
      "source": [
        "sns.clustermap(data=df_day_hour, cmap='coolwarm')"
      ]
    },
    {
      "cell_type": "markdown",
      "metadata": {
        "id": "TeuxWFPS-7EY"
      },
      "source": [
        "### Reorganização dos dados para coluna(meses) e linha(dia da semana)"
      ]
    },
    {
      "cell_type": "code",
      "execution_count": 83,
      "metadata": {
        "colab": {
          "base_uri": "https://localhost:8080/",
          "height": 0
        },
        "id": "tLQQPx8O690Z",
        "outputId": "a2d0499d-88a9-432a-a8d4-392815829e9a"
      },
      "outputs": [
        {
          "data": {
            "text/html": [
              "\n",
              "\n",
              "  <div id=\"df-ac04cfec-34ee-426b-8b81-b791f62f7889\">\n",
              "    <div class=\"colab-df-container\">\n",
              "      <div>\n",
              "<style scoped>\n",
              "    .dataframe tbody tr th:only-of-type {\n",
              "        vertical-align: middle;\n",
              "    }\n",
              "\n",
              "    .dataframe tbody tr th {\n",
              "        vertical-align: top;\n",
              "    }\n",
              "\n",
              "    .dataframe thead th {\n",
              "        text-align: right;\n",
              "    }\n",
              "</style>\n",
              "<table border=\"1\" class=\"dataframe\">\n",
              "  <thead>\n",
              "    <tr style=\"text-align: right;\">\n",
              "      <th>month</th>\n",
              "      <th>1</th>\n",
              "      <th>2</th>\n",
              "      <th>3</th>\n",
              "      <th>4</th>\n",
              "      <th>5</th>\n",
              "      <th>6</th>\n",
              "      <th>7</th>\n",
              "      <th>8</th>\n",
              "      <th>9</th>\n",
              "      <th>10</th>\n",
              "      <th>11</th>\n",
              "      <th>12</th>\n",
              "    </tr>\n",
              "    <tr>\n",
              "      <th>str_day_of_week</th>\n",
              "      <th></th>\n",
              "      <th></th>\n",
              "      <th></th>\n",
              "      <th></th>\n",
              "      <th></th>\n",
              "      <th></th>\n",
              "      <th></th>\n",
              "      <th></th>\n",
              "      <th></th>\n",
              "      <th></th>\n",
              "      <th></th>\n",
              "      <th></th>\n",
              "    </tr>\n",
              "  </thead>\n",
              "  <tbody>\n",
              "    <tr>\n",
              "      <th>Monday</th>\n",
              "      <td>8896</td>\n",
              "      <td>8747</td>\n",
              "      <td>8060</td>\n",
              "      <td>8410</td>\n",
              "      <td>7881</td>\n",
              "      <td>8511</td>\n",
              "      <td>9499</td>\n",
              "      <td>6854</td>\n",
              "      <td>6598</td>\n",
              "      <td>8075</td>\n",
              "      <td>6722</td>\n",
              "      <td>8492</td>\n",
              "    </tr>\n",
              "    <tr>\n",
              "      <th>Tuesday</th>\n",
              "      <td>9714</td>\n",
              "      <td>8087</td>\n",
              "      <td>8372</td>\n",
              "      <td>7561</td>\n",
              "      <td>9026</td>\n",
              "      <td>8349</td>\n",
              "      <td>9086</td>\n",
              "      <td>7291</td>\n",
              "      <td>6601</td>\n",
              "      <td>7948</td>\n",
              "      <td>7344</td>\n",
              "      <td>8305</td>\n",
              "    </tr>\n",
              "    <tr>\n",
              "      <th>Wednesday</th>\n",
              "      <td>9409</td>\n",
              "      <td>8296</td>\n",
              "      <td>8989</td>\n",
              "      <td>7602</td>\n",
              "      <td>9041</td>\n",
              "      <td>9443</td>\n",
              "      <td>8581</td>\n",
              "      <td>7984</td>\n",
              "      <td>6844</td>\n",
              "      <td>7876</td>\n",
              "      <td>7410</td>\n",
              "      <td>7682</td>\n",
              "    </tr>\n",
              "    <tr>\n",
              "      <th>Thursday</th>\n",
              "      <td>9055</td>\n",
              "      <td>7997</td>\n",
              "      <td>8849</td>\n",
              "      <td>7722</td>\n",
              "      <td>8740</td>\n",
              "      <td>9489</td>\n",
              "      <td>8378</td>\n",
              "      <td>7508</td>\n",
              "      <td>6954</td>\n",
              "      <td>7482</td>\n",
              "      <td>8358</td>\n",
              "      <td>8151</td>\n",
              "    </tr>\n",
              "    <tr>\n",
              "      <th>Friday</th>\n",
              "      <td>9309</td>\n",
              "      <td>8255</td>\n",
              "      <td>10941</td>\n",
              "      <td>7997</td>\n",
              "      <td>8904</td>\n",
              "      <td>9207</td>\n",
              "      <td>8681</td>\n",
              "      <td>7336</td>\n",
              "      <td>7694</td>\n",
              "      <td>6934</td>\n",
              "      <td>8379</td>\n",
              "      <td>9305</td>\n",
              "    </tr>\n",
              "  </tbody>\n",
              "</table>\n",
              "</div>\n",
              "      <button class=\"colab-df-convert\" onclick=\"convertToInteractive('df-ac04cfec-34ee-426b-8b81-b791f62f7889')\"\n",
              "              title=\"Convert this dataframe to an interactive table.\"\n",
              "              style=\"display:none;\">\n",
              "\n",
              "  <svg xmlns=\"http://www.w3.org/2000/svg\" height=\"24px\"viewBox=\"0 0 24 24\"\n",
              "       width=\"24px\">\n",
              "    <path d=\"M0 0h24v24H0V0z\" fill=\"none\"/>\n",
              "    <path d=\"M18.56 5.44l.94 2.06.94-2.06 2.06-.94-2.06-.94-.94-2.06-.94 2.06-2.06.94zm-11 1L8.5 8.5l.94-2.06 2.06-.94-2.06-.94L8.5 2.5l-.94 2.06-2.06.94zm10 10l.94 2.06.94-2.06 2.06-.94-2.06-.94-.94-2.06-.94 2.06-2.06.94z\"/><path d=\"M17.41 7.96l-1.37-1.37c-.4-.4-.92-.59-1.43-.59-.52 0-1.04.2-1.43.59L10.3 9.45l-7.72 7.72c-.78.78-.78 2.05 0 2.83L4 21.41c.39.39.9.59 1.41.59.51 0 1.02-.2 1.41-.59l7.78-7.78 2.81-2.81c.8-.78.8-2.07 0-2.86zM5.41 20L4 18.59l7.72-7.72 1.47 1.35L5.41 20z\"/>\n",
              "  </svg>\n",
              "      </button>\n",
              "\n",
              "\n",
              "\n",
              "    <div id=\"df-f41396bb-9242-4bf1-9c02-65c4ad3fcb43\">\n",
              "      <button class=\"colab-df-quickchart\" onclick=\"quickchart('df-f41396bb-9242-4bf1-9c02-65c4ad3fcb43')\"\n",
              "              title=\"Suggest charts.\"\n",
              "              style=\"display:none;\">\n",
              "\n",
              "<svg xmlns=\"http://www.w3.org/2000/svg\" height=\"24px\"viewBox=\"0 0 24 24\"\n",
              "     width=\"24px\">\n",
              "    <g>\n",
              "        <path d=\"M19 3H5c-1.1 0-2 .9-2 2v14c0 1.1.9 2 2 2h14c1.1 0 2-.9 2-2V5c0-1.1-.9-2-2-2zM9 17H7v-7h2v7zm4 0h-2V7h2v10zm4 0h-2v-4h2v4z\"/>\n",
              "    </g>\n",
              "</svg>\n",
              "      </button>\n",
              "    </div>\n",
              "\n",
              "<style>\n",
              "  .colab-df-quickchart {\n",
              "    background-color: #E8F0FE;\n",
              "    border: none;\n",
              "    border-radius: 50%;\n",
              "    cursor: pointer;\n",
              "    display: none;\n",
              "    fill: #1967D2;\n",
              "    height: 32px;\n",
              "    padding: 0 0 0 0;\n",
              "    width: 32px;\n",
              "  }\n",
              "\n",
              "  .colab-df-quickchart:hover {\n",
              "    background-color: #E2EBFA;\n",
              "    box-shadow: 0px 1px 2px rgba(60, 64, 67, 0.3), 0px 1px 3px 1px rgba(60, 64, 67, 0.15);\n",
              "    fill: #174EA6;\n",
              "  }\n",
              "\n",
              "  [theme=dark] .colab-df-quickchart {\n",
              "    background-color: #3B4455;\n",
              "    fill: #D2E3FC;\n",
              "  }\n",
              "\n",
              "  [theme=dark] .colab-df-quickchart:hover {\n",
              "    background-color: #434B5C;\n",
              "    box-shadow: 0px 1px 3px 1px rgba(0, 0, 0, 0.15);\n",
              "    filter: drop-shadow(0px 1px 2px rgba(0, 0, 0, 0.3));\n",
              "    fill: #FFFFFF;\n",
              "  }\n",
              "</style>\n",
              "\n",
              "    <script>\n",
              "      async function quickchart(key) {\n",
              "        const containerElement = document.querySelector('#' + key);\n",
              "        const charts = await google.colab.kernel.invokeFunction(\n",
              "            'suggestCharts', [key], {});\n",
              "      }\n",
              "    </script>\n",
              "\n",
              "      <script>\n",
              "\n",
              "function displayQuickchartButton(domScope) {\n",
              "  let quickchartButtonEl =\n",
              "    domScope.querySelector('#df-f41396bb-9242-4bf1-9c02-65c4ad3fcb43 button.colab-df-quickchart');\n",
              "  quickchartButtonEl.style.display =\n",
              "    google.colab.kernel.accessAllowed ? 'block' : 'none';\n",
              "}\n",
              "\n",
              "        displayQuickchartButton(document);\n",
              "      </script>\n",
              "      <style>\n",
              "    .colab-df-container {\n",
              "      display:flex;\n",
              "      flex-wrap:wrap;\n",
              "      gap: 12px;\n",
              "    }\n",
              "\n",
              "    .colab-df-convert {\n",
              "      background-color: #E8F0FE;\n",
              "      border: none;\n",
              "      border-radius: 50%;\n",
              "      cursor: pointer;\n",
              "      display: none;\n",
              "      fill: #1967D2;\n",
              "      height: 32px;\n",
              "      padding: 0 0 0 0;\n",
              "      width: 32px;\n",
              "    }\n",
              "\n",
              "    .colab-df-convert:hover {\n",
              "      background-color: #E2EBFA;\n",
              "      box-shadow: 0px 1px 2px rgba(60, 64, 67, 0.3), 0px 1px 3px 1px rgba(60, 64, 67, 0.15);\n",
              "      fill: #174EA6;\n",
              "    }\n",
              "\n",
              "    [theme=dark] .colab-df-convert {\n",
              "      background-color: #3B4455;\n",
              "      fill: #D2E3FC;\n",
              "    }\n",
              "\n",
              "    [theme=dark] .colab-df-convert:hover {\n",
              "      background-color: #434B5C;\n",
              "      box-shadow: 0px 1px 3px 1px rgba(0, 0, 0, 0.15);\n",
              "      filter: drop-shadow(0px 1px 2px rgba(0, 0, 0, 0.3));\n",
              "      fill: #FFFFFF;\n",
              "    }\n",
              "  </style>\n",
              "\n",
              "      <script>\n",
              "        const buttonEl =\n",
              "          document.querySelector('#df-ac04cfec-34ee-426b-8b81-b791f62f7889 button.colab-df-convert');\n",
              "        buttonEl.style.display =\n",
              "          google.colab.kernel.accessAllowed ? 'block' : 'none';\n",
              "\n",
              "        async function convertToInteractive(key) {\n",
              "          const element = document.querySelector('#df-ac04cfec-34ee-426b-8b81-b791f62f7889');\n",
              "          const dataTable =\n",
              "            await google.colab.kernel.invokeFunction('convertToInteractive',\n",
              "                                                     [key], {});\n",
              "          if (!dataTable) return;\n",
              "\n",
              "          const docLinkHtml = 'Like what you see? Visit the ' +\n",
              "            '<a target=\"_blank\" href=https://colab.research.google.com/notebooks/data_table.ipynb>data table notebook</a>'\n",
              "            + ' to learn more about interactive tables.';\n",
              "          element.innerHTML = '';\n",
              "          dataTable['output_type'] = 'display_data';\n",
              "          await google.colab.output.renderOutput(dataTable, element);\n",
              "          const docLink = document.createElement('div');\n",
              "          docLink.innerHTML = docLinkHtml;\n",
              "          element.appendChild(docLink);\n",
              "        }\n",
              "      </script>\n",
              "    </div>\n",
              "  </div>\n"
            ],
            "text/plain": [
              "month              1     2      3     4     5     6     7     8     9     10  \\\n",
              "str_day_of_week                                                                \n",
              "Monday           8896  8747   8060  8410  7881  8511  9499  6854  6598  8075   \n",
              "Tuesday          9714  8087   8372  7561  9026  8349  9086  7291  6601  7948   \n",
              "Wednesday        9409  8296   8989  7602  9041  9443  8581  7984  6844  7876   \n",
              "Thursday         9055  7997   8849  7722  8740  9489  8378  7508  6954  7482   \n",
              "Friday           9309  8255  10941  7997  8904  9207  8681  7336  7694  6934   \n",
              "\n",
              "month              11    12  \n",
              "str_day_of_week              \n",
              "Monday           6722  8492  \n",
              "Tuesday          7344  8305  \n",
              "Wednesday        7410  7682  \n",
              "Thursday         8358  8151  \n",
              "Friday           8379  9305  "
            ]
          },
          "execution_count": 83,
          "metadata": {},
          "output_type": "execute_result"
        }
      ],
      "source": [
        "df_day_month = df.groupby(by=['str_day_of_week','month']).count()['reason'].unstack()\n",
        "df_day_month = df_day_month.reindex(ordem_dias_semana)\n",
        "df_day_month.head()"
      ]
    },
    {
      "cell_type": "markdown",
      "metadata": {
        "id": "fD_0Nndl_Qm6"
      },
      "source": [
        "Heatmap para visualizar relação entre dias da semana e meses do ano"
      ]
    },
    {
      "cell_type": "code",
      "execution_count": 84,
      "metadata": {
        "colab": {
          "base_uri": "https://localhost:8080/",
          "height": 0
        },
        "id": "R9ztkf677J6E",
        "outputId": "e457a4e9-cc0a-4950-ec94-60e7118fb916"
      },
      "outputs": [
        {
          "data": {
            "text/plain": [
              "<Axes: xlabel='month', ylabel='str_day_of_week'>"
            ]
          },
          "execution_count": 84,
          "metadata": {},
          "output_type": "execute_result"
        },
        {
          "data": {
            "image/png": "[encoded data removed]",
            "text/plain": [
              "<Figure size 1200x600 with 2 Axes>"
            ]
          },
          "metadata": {},
          "output_type": "display_data"
        }
      ],
      "source": [
        "plt.figure(figsize=(12, 6))\n",
        "sns.heatmap(data=df_day_month, cmap='coolwarm')"
      ]
    },
    {
      "cell_type": "markdown",
      "metadata": {
        "id": "bRqmVEMS7ekn"
      },
      "source": [
        "> Olhando o Heatmap, podemos observar que a maior quantidade de chamadas ocorre no primeiro semestre do ano, normalmente entre os dias úteis da semana, tendo uma desaceleração nos finais de semana.\n",
        "\n"
      ]
    },
    {
      "cell_type": "markdown",
      "metadata": {
        "id": "u0AZHn4l_Enk"
      },
      "source": [
        "Para nos auxiliar ainda mais, podemos criar clusters dos dados, para melhor vizualização dos padrões"
      ]
    },
    {
      "cell_type": "code",
      "execution_count": 85,
      "metadata": {
        "colab": {
          "base_uri": "https://localhost:8080/",
          "height": 0
        },
        "id": "YDAR_fzV_E0r",
        "outputId": "19520c18-f0c1-4267-f307-2d218b1cfd18"
      },
      "outputs": [
        {
          "data": {
            "text/plain": [
              "<seaborn.matrix.ClusterGrid at 0x7f9a419e7910>"
            ]
          },
          "execution_count": 85,
          "metadata": {},
          "output_type": "execute_result"
        },
        {
          "data": {
            "image/png": "[encoded data removed]",
            "text/plain": [
              "<Figure size 1000x1000 with 4 Axes>"
            ]
          },
          "metadata": {},
          "output_type": "display_data"
        }
      ],
      "source": [
        "sns.clustermap(data=df_day_month,cmap='coolwarm')"
      ]
    },
    {
      "cell_type": "markdown",
      "metadata": {
        "id": "DgH1T82vZbDq"
      },
      "source": [
        "## Visualizando no mapa\n",
        "* Em construção"
      ]
    },
    {
      "cell_type": "code",
      "execution_count": 86,
      "metadata": {
        "id": "kSb3sLERBQSi"
      },
      "outputs": [],
      "source": [
        "# df['id'] = range(len(df))\n",
        "# df.info()"
      ]
    },
    {
      "cell_type": "code",
      "execution_count": 87,
      "metadata": {
        "id": "QWLGg8Oj_eE-"
      },
      "outputs": [],
      "source": [
        "# def draw_map(df):\n",
        "#     # Map\n",
        "#     calls = df[['id', 'lat', 'lng', 'reason', 'ex']].copy()\n",
        "\n",
        "#     calls['ex'] = calls['ex'].astype('int')\n",
        "\n",
        "#     fig = px.scatter_mapbox(calls,\n",
        "#                             lat=\"lat\",\n",
        "#                             lon=\"lng\",\n",
        "#                             color=\"reason\",\n",
        "#                             color_continuous_scale=px.colors.cyclical.IceFire,\n",
        "#                             size_max=15,\n",
        "#                             zoom=10)\n",
        "\n",
        "#     fig.update_layout(mapbox_style=\"open-street-map\")\n",
        "#     fig.update_layout(height=600, margin={\"r\":0,\"t\":0,\"l\":0,\"b\":0})\n",
        "#     return fig"
      ]
    },
    {
      "cell_type": "code",
      "execution_count": 88,
      "metadata": {
        "id": "JMurabBLD37G"
      },
      "outputs": [],
      "source": [
        "# fig = draw_map(df)\n",
        "# fig.show()"
      ]
    }
  ],
  "metadata": {
    "colab": {
      "provenance": [],
      "toc_visible": true
    },
    "kernelspec": {
      "display_name": "Python 3",
      "name": "python3"
    },
    "language_info": {
      "name": "python"
    }
  },
  "nbformat": 4,
  "nbformat_minor": 0
}
