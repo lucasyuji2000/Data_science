{
 "cells": [
  {
   "cell_type": "markdown",
   "id": "42ac0d08-5939-4521-8221-145403c0380b",
   "metadata": {},
   "source": [
    "# Entendendo como funciona train_test_split"
   ]
  },
  {
   "cell_type": "code",
   "execution_count": 5,
   "id": "f84b00ac-7cc9-4fea-9c55-9f4d9a2746e4",
   "metadata": {},
   "outputs": [],
   "source": [
    "from sklearn.model_selection import train_test_split\n",
    "import numpy as np"
   ]
  },
  {
   "cell_type": "code",
   "execution_count": 8,
   "id": "9c12a84e-5aec-411f-bdfb-c21621e789f1",
   "metadata": {},
   "outputs": [
    {
     "data": {
      "text/plain": [
       "array([0, 1, 2, 3, 4, 5, 6, 7, 8, 9])"
      ]
     },
     "execution_count": 8,
     "metadata": {},
     "output_type": "execute_result"
    }
   ],
   "source": [
    "x_falso = np.arange(10)\n",
    "x_falso"
   ]
  },
  {
   "cell_type": "markdown",
   "id": "10a358a9-3429-4d87-a78f-023cbd88723f",
   "metadata": {},
   "source": [
    "### Por padrao, 30% vai para teste e 70% treino"
   ]
  },
  {
   "cell_type": "code",
   "execution_count": 9,
   "id": "0a610bcc-656c-40ec-bd0a-6182f91a67c5",
   "metadata": {},
   "outputs": [
    {
     "data": {
      "text/plain": [
       "[array([0, 9, 1, 5, 3, 2, 6]), array([8, 4, 7])]"
      ]
     },
     "execution_count": 9,
     "metadata": {},
     "output_type": "execute_result"
    }
   ],
   "source": [
    "train_test_split(x_falso)"
   ]
  },
  {
   "cell_type": "code",
   "execution_count": 11,
   "id": "585dfcef-2dd4-4933-9386-b5d134e5662d",
   "metadata": {},
   "outputs": [
    {
     "data": {
      "text/plain": [
       "[array([6, 5, 1, 9, 7]), array([2, 0, 3, 8, 4])]"
      ]
     },
     "execution_count": 11,
     "metadata": {},
     "output_type": "execute_result"
    }
   ],
   "source": [
    "train_test_split(x_falso, test_size=0.5)"
   ]
  },
  {
   "cell_type": "markdown",
   "id": "f6f9f014-5d0d-40f9-8e50-c2d00d509f1c",
   "metadata": {},
   "source": [
    "### Para fixar a sequencia, coloca uma semente, para gerar os mesmos valores (random_state faz a mesma coisa, na RandomForestClassifier)"
   ]
  },
  {
   "cell_type": "code",
   "execution_count": 14,
   "id": "1400cf62-8644-4531-b643-7710b278714b",
   "metadata": {},
   "outputs": [
    {
     "data": {
      "text/plain": [
       "[array([6, 7, 3, 0, 5]), array([2, 8, 4, 9, 1])]"
      ]
     },
     "execution_count": 14,
     "metadata": {},
     "output_type": "execute_result"
    }
   ],
   "source": [
    "np.random.seed(0)\n",
    "train_test_split(x_falso, test_size=0.5)"
   ]
  },
  {
   "cell_type": "markdown",
   "id": "a39a3209-7c90-4ed6-951b-6f7f6c9be214",
   "metadata": {},
   "source": [
    "## Validação Cruzada"
   ]
  },
  {
   "cell_type": "code",
   "execution_count": 15,
   "id": "2e64504b-2e21-457a-a70d-6c061baf1514",
   "metadata": {},
   "outputs": [
    {
     "data": {
      "text/plain": [
       "array([0, 1, 2, 3, 4, 5, 6, 7, 8, 9])"
      ]
     },
     "execution_count": 15,
     "metadata": {},
     "output_type": "execute_result"
    }
   ],
   "source": [
    "from sklearn.model_selection import KFold\n",
    "x_falso"
   ]
  },
  {
   "cell_type": "code",
   "execution_count": 16,
   "id": "7c975bc7-1c5f-4fed-b6ff-76bfdf8a07f9",
   "metadata": {},
   "outputs": [
    {
     "data": {
      "text/plain": [
       "\u001b[1;31mInit signature:\u001b[0m \u001b[0mKFold\u001b[0m\u001b[1;33m(\u001b[0m\u001b[0mn_splits\u001b[0m\u001b[1;33m=\u001b[0m\u001b[1;36m5\u001b[0m\u001b[1;33m,\u001b[0m \u001b[1;33m*\u001b[0m\u001b[1;33m,\u001b[0m \u001b[0mshuffle\u001b[0m\u001b[1;33m=\u001b[0m\u001b[1;32mFalse\u001b[0m\u001b[1;33m,\u001b[0m \u001b[0mrandom_state\u001b[0m\u001b[1;33m=\u001b[0m\u001b[1;32mNone\u001b[0m\u001b[1;33m)\u001b[0m\u001b[1;33m\u001b[0m\u001b[1;33m\u001b[0m\u001b[0m\n",
       "\u001b[1;31mDocstring:\u001b[0m     \n",
       "K-Folds cross-validator\n",
       "\n",
       "Provides train/test indices to split data in train/test sets. Split\n",
       "dataset into k consecutive folds (without shuffling by default).\n",
       "\n",
       "Each fold is then used once as a validation while the k - 1 remaining\n",
       "folds form the training set.\n",
       "\n",
       "Read more in the :ref:`User Guide <k_fold>`.\n",
       "\n",
       "Parameters\n",
       "----------\n",
       "n_splits : int, default=5\n",
       "    Number of folds. Must be at least 2.\n",
       "\n",
       "    .. versionchanged:: 0.22\n",
       "        ``n_splits`` default value changed from 3 to 5.\n",
       "\n",
       "shuffle : bool, default=False\n",
       "    Whether to shuffle the data before splitting into batches.\n",
       "    Note that the samples within each split will not be shuffled.\n",
       "\n",
       "random_state : int, RandomState instance or None, default=None\n",
       "    When `shuffle` is True, `random_state` affects the ordering of the\n",
       "    indices, which controls the randomness of each fold. Otherwise, this\n",
       "    parameter has no effect.\n",
       "    Pass an int for reproducible output across multiple function calls.\n",
       "    See :term:`Glossary <random_state>`.\n",
       "\n",
       "Examples\n",
       "--------\n",
       ">>> import numpy as np\n",
       ">>> from sklearn.model_selection import KFold\n",
       ">>> X = np.array([[1, 2], [3, 4], [1, 2], [3, 4]])\n",
       ">>> y = np.array([1, 2, 3, 4])\n",
       ">>> kf = KFold(n_splits=2)\n",
       ">>> kf.get_n_splits(X)\n",
       "2\n",
       ">>> print(kf)\n",
       "KFold(n_splits=2, random_state=None, shuffle=False)\n",
       ">>> for train_index, test_index in kf.split(X):\n",
       "...     print(\"TRAIN:\", train_index, \"TEST:\", test_index)\n",
       "...     X_train, X_test = X[train_index], X[test_index]\n",
       "...     y_train, y_test = y[train_index], y[test_index]\n",
       "TRAIN: [2 3] TEST: [0 1]\n",
       "TRAIN: [0 1] TEST: [2 3]\n",
       "\n",
       "Notes\n",
       "-----\n",
       "The first ``n_samples % n_splits`` folds have size\n",
       "``n_samples // n_splits + 1``, other folds have size\n",
       "``n_samples // n_splits``, where ``n_samples`` is the number of samples.\n",
       "\n",
       "Randomized CV splitters may return different results for each call of\n",
       "split. You can make the results identical by setting `random_state`\n",
       "to an integer.\n",
       "\n",
       "See Also\n",
       "--------\n",
       "StratifiedKFold : Takes group information into account to avoid building\n",
       "    folds with imbalanced class distributions (for binary or multiclass\n",
       "    classification tasks).\n",
       "\n",
       "GroupKFold : K-fold iterator variant with non-overlapping groups.\n",
       "\n",
       "RepeatedKFold : Repeats K-Fold n times.\n",
       "\u001b[1;31mFile:\u001b[0m           c:\\users\\lucas\\anaconda3\\lib\\site-packages\\sklearn\\model_selection\\_split.py\n",
       "\u001b[1;31mType:\u001b[0m           ABCMeta\n",
       "\u001b[1;31mSubclasses:\u001b[0m     \n"
      ]
     },
     "metadata": {},
     "output_type": "display_data"
    }
   ],
   "source": [
    "?KFold"
   ]
  },
  {
   "cell_type": "code",
   "execution_count": 21,
   "id": "a9e7f8e6-4d09-4a95-9a5d-0f099a16b689",
   "metadata": {},
   "outputs": [
    {
     "name": "stdout",
     "output_type": "stream",
     "text": [
      "Treino: [0 1 3 4 5 6 7 9]\n",
      "Valid: [2 8]\n",
      "\n",
      "Treino: [0 1 2 3 5 6 7 8]\n",
      "Valid: [4 9]\n",
      "\n",
      "Treino: [0 2 3 4 5 7 8 9]\n",
      "Valid: [1 6]\n",
      "\n",
      "Treino: [0 1 2 4 5 6 8 9]\n",
      "Valid: [3 7]\n",
      "\n",
      "Treino: [1 2 3 4 6 7 8 9]\n",
      "Valid: [0 5]\n",
      "\n"
     ]
    }
   ],
   "source": [
    "kf = KFold(n_splits=5, shuffle=True, random_state=0)\n",
    "for linhas_treino, linhas_valid in kf.split(x_falso):\n",
    "    print(f'Treino: {linhas_treino}')\n",
    "    print(f'Valid: {linhas_valid}\\n')"
   ]
  },
  {
   "cell_type": "code",
   "execution_count": null,
   "id": "6a687b03-cebe-41ce-974b-5c630f21c2d5",
   "metadata": {},
   "outputs": [],
   "source": []
  }
 ],
 "metadata": {
  "kernelspec": {
   "display_name": "Python 3",
   "language": "python",
   "name": "python3"
  },
  "language_info": {
   "codemirror_mode": {
    "name": "ipython",
    "version": 3
   },
   "file_extension": ".py",
   "mimetype": "text/x-python",
   "name": "python",
   "nbconvert_exporter": "python",
   "pygments_lexer": "ipython3",
   "version": "3.8.8"
  }
 },
 "nbformat": 4,
 "nbformat_minor": 5
}
