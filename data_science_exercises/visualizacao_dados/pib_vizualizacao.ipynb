{
 "cells": [
  {
   "cell_type": "markdown",
   "id": "a868ed03-5179-4ee1-943e-3ba1b8ae06a7",
   "metadata": {},
   "source": [
    "# Vizualização de dados"
   ]
  },
  {
   "cell_type": "markdown",
   "id": "0c194392-c963-4afd-82ba-5ed92846ed7b",
   "metadata": {},
   "source": [
    "## vizualizando dados de PIB/municipio"
   ]
  },
  {
   "cell_type": "markdown",
   "id": "9fdbb843-8654-4865-b7f8-85fc775e9657",
   "metadata": {},
   "source": [
    "### Importando as bibliotecas"
   ]
  },
  {
   "cell_type": "code",
   "execution_count": 489,
   "id": "3cf4539b-e928-403f-8c26-775007372d2a",
   "metadata": {},
   "outputs": [],
   "source": [
    "import pandas as pd\n",
    "import numpy as np\n",
    "import matplotlib.pyplot as plt\n",
    "import seaborn as srn\n",
    "srn.set_theme(style=\"whitegrid\")"
   ]
  },
  {
   "cell_type": "code",
   "execution_count": 490,
   "id": "ea00c8b5-063e-43a0-8547-fad6d69d0b57",
   "metadata": {},
   "outputs": [
    {
     "data": {
      "text/plain": [
       "CODIGO          0\n",
       "MUNICIPIO       0\n",
       "PIB             0\n",
       "VALOREMPENHO    0\n",
       "dtype: int64"
      ]
     },
     "execution_count": 490,
     "metadata": {},
     "output_type": "execute_result"
    }
   ],
   "source": [
    "db.isnull().sum()"
   ]
  },
  {
   "cell_type": "code",
   "execution_count": 491,
   "id": "08297504-5015-4819-b3d5-173110434db7",
   "metadata": {},
   "outputs": [
    {
     "data": {
      "text/html": [
       "<div>\n",
       "<style scoped>\n",
       "    .dataframe tbody tr th:only-of-type {\n",
       "        vertical-align: middle;\n",
       "    }\n",
       "\n",
       "    .dataframe tbody tr th {\n",
       "        vertical-align: top;\n",
       "    }\n",
       "\n",
       "    .dataframe thead th {\n",
       "        text-align: right;\n",
       "    }\n",
       "</style>\n",
       "<table border=\"1\" class=\"dataframe\">\n",
       "  <thead>\n",
       "    <tr style=\"text-align: right;\">\n",
       "      <th></th>\n",
       "      <th>CODIGO</th>\n",
       "      <th>MUNICIPIO</th>\n",
       "      <th>PIB</th>\n",
       "      <th>VALOREMPENHO</th>\n",
       "    </tr>\n",
       "  </thead>\n",
       "  <tbody>\n",
       "    <tr>\n",
       "      <th>0</th>\n",
       "      <td>106</td>\n",
       "      <td>SANTANA DO LIVRAMENTO</td>\n",
       "      <td>12240.76</td>\n",
       "      <td>1088666.10</td>\n",
       "    </tr>\n",
       "    <tr>\n",
       "      <th>1</th>\n",
       "      <td>113</td>\n",
       "      <td>SANTO ANGELO</td>\n",
       "      <td>16575.82</td>\n",
       "      <td>800669.92</td>\n",
       "    </tr>\n",
       "    <tr>\n",
       "      <th>2</th>\n",
       "      <td>118</td>\n",
       "      <td>SAO FRANCISCO DE ASSIS</td>\n",
       "      <td>12037.61</td>\n",
       "      <td>466122.80</td>\n",
       "    </tr>\n",
       "    <tr>\n",
       "      <th>3</th>\n",
       "      <td>13</td>\n",
       "      <td>CACAPAVA DO SUL</td>\n",
       "      <td>13674.54</td>\n",
       "      <td>485535.86</td>\n",
       "    </tr>\n",
       "    <tr>\n",
       "      <th>4</th>\n",
       "      <td>120</td>\n",
       "      <td>SAO GABRIEL</td>\n",
       "      <td>19912.38</td>\n",
       "      <td>533719.86</td>\n",
       "    </tr>\n",
       "  </tbody>\n",
       "</table>\n",
       "</div>"
      ],
      "text/plain": [
       "   CODIGO               MUNICIPIO       PIB  VALOREMPENHO\n",
       "0     106   SANTANA DO LIVRAMENTO  12240.76    1088666.10\n",
       "1     113            SANTO ANGELO  16575.82     800669.92\n",
       "2     118  SAO FRANCISCO DE ASSIS  12037.61     466122.80\n",
       "3      13         CACAPAVA DO SUL  13674.54     485535.86\n",
       "4     120             SAO GABRIEL  19912.38     533719.86"
      ]
     },
     "execution_count": 491,
     "metadata": {},
     "output_type": "execute_result"
    }
   ],
   "source": [
    "db = pd.read_csv(r'dados\\dados.csv', sep=';')\n",
    "db.head()"
   ]
  },
  {
   "cell_type": "code",
   "execution_count": 492,
   "id": "af2117e0-285e-41ca-bbe1-54a7af623842",
   "metadata": {},
   "outputs": [
    {
     "data": {
      "text/plain": [
       "(187, 4)"
      ]
     },
     "execution_count": 492,
     "metadata": {},
     "output_type": "execute_result"
    }
   ],
   "source": [
    "db.shape"
   ]
  },
  {
   "cell_type": "code",
   "execution_count": 493,
   "id": "86fec7df-8cd3-4935-8d3f-f945c41b9dfe",
   "metadata": {},
   "outputs": [
    {
     "data": {
      "image/png": "[encoded data removed]",
      "text/plain": [
       "<Figure size 432x288 with 2 Axes>"
      ]
     },
     "metadata": {},
     "output_type": "display_data"
    }
   ],
   "source": [
    "plt.figure()\n",
    "plt.subplot(1, 2, 1)\n",
    "srn.histplot(x=db.PIB, bins=8).set_title='PIB'\n",
    "plt.subplot(1, 2, 2)\n",
    "srn.histplot(x=db.VALOREMPENHO, bins=8).set_title='VALOR EMPENHO'\n",
    "plt.tight_layout()"
   ]
  },
  {
   "cell_type": "code",
   "execution_count": 494,
   "id": "a53fd885-5bf5-441d-9489-cc8d1f52bad0",
   "metadata": {},
   "outputs": [
    {
     "data": {
      "text/html": [
       "<div>\n",
       "<style scoped>\n",
       "    .dataframe tbody tr th:only-of-type {\n",
       "        vertical-align: middle;\n",
       "    }\n",
       "\n",
       "    .dataframe tbody tr th {\n",
       "        vertical-align: top;\n",
       "    }\n",
       "\n",
       "    .dataframe thead th {\n",
       "        text-align: right;\n",
       "    }\n",
       "</style>\n",
       "<table border=\"1\" class=\"dataframe\">\n",
       "  <thead>\n",
       "    <tr style=\"text-align: right;\">\n",
       "      <th></th>\n",
       "      <th>CODIGO</th>\n",
       "      <th>MUNICIPIO</th>\n",
       "      <th>PIB</th>\n",
       "      <th>VALOREMPENHO</th>\n",
       "    </tr>\n",
       "  </thead>\n",
       "  <tbody>\n",
       "    <tr>\n",
       "      <th>49</th>\n",
       "      <td>149</td>\n",
       "      <td>TRIUNFO</td>\n",
       "      <td>223848.22</td>\n",
       "      <td>1442759.82</td>\n",
       "    </tr>\n",
       "    <tr>\n",
       "      <th>146</th>\n",
       "      <td>453</td>\n",
       "      <td>MUITOS CAPOES</td>\n",
       "      <td>72353.72</td>\n",
       "      <td>140597.55</td>\n",
       "    </tr>\n",
       "    <tr>\n",
       "      <th>91</th>\n",
       "      <td>356</td>\n",
       "      <td>GARRUCHOS</td>\n",
       "      <td>68672.25</td>\n",
       "      <td>271841.26</td>\n",
       "    </tr>\n",
       "    <tr>\n",
       "      <th>176</th>\n",
       "      <td>108</td>\n",
       "      <td>SANTA CRUZ DO SUL</td>\n",
       "      <td>40671.53</td>\n",
       "      <td>9637.00</td>\n",
       "    </tr>\n",
       "    <tr>\n",
       "      <th>155</th>\n",
       "      <td>476</td>\n",
       "      <td>CAPAO DO CIPO</td>\n",
       "      <td>36739.78</td>\n",
       "      <td>60851.00</td>\n",
       "    </tr>\n",
       "    <tr>\n",
       "      <th>68</th>\n",
       "      <td>75</td>\n",
       "      <td>MARAU</td>\n",
       "      <td>34568.53</td>\n",
       "      <td>193840.83</td>\n",
       "    </tr>\n",
       "    <tr>\n",
       "      <th>145</th>\n",
       "      <td>276</td>\n",
       "      <td>GLORINHA</td>\n",
       "      <td>33730.13</td>\n",
       "      <td>74325.48</td>\n",
       "    </tr>\n",
       "    <tr>\n",
       "      <th>169</th>\n",
       "      <td>329</td>\n",
       "      <td>VILA MARIA</td>\n",
       "      <td>31104.22</td>\n",
       "      <td>28149.89</td>\n",
       "    </tr>\n",
       "    <tr>\n",
       "      <th>175</th>\n",
       "      <td>96</td>\n",
       "      <td>PORTO ALEGRE</td>\n",
       "      <td>30524.80</td>\n",
       "      <td>9358.33</td>\n",
       "    </tr>\n",
       "    <tr>\n",
       "      <th>106</th>\n",
       "      <td>273</td>\n",
       "      <td>EUGENIO DE CASTRO</td>\n",
       "      <td>30468.92</td>\n",
       "      <td>105023.36</td>\n",
       "    </tr>\n",
       "  </tbody>\n",
       "</table>\n",
       "</div>"
      ],
      "text/plain": [
       "     CODIGO          MUNICIPIO        PIB  VALOREMPENHO\n",
       "49      149            TRIUNFO  223848.22    1442759.82\n",
       "146     453      MUITOS CAPOES   72353.72     140597.55\n",
       "91      356          GARRUCHOS   68672.25     271841.26\n",
       "176     108  SANTA CRUZ DO SUL   40671.53       9637.00\n",
       "155     476      CAPAO DO CIPO   36739.78      60851.00\n",
       "68       75              MARAU   34568.53     193840.83\n",
       "145     276           GLORINHA   33730.13      74325.48\n",
       "169     329         VILA MARIA   31104.22      28149.89\n",
       "175      96       PORTO ALEGRE   30524.80       9358.33\n",
       "106     273  EUGENIO DE CASTRO   30468.92     105023.36"
      ]
     },
     "execution_count": 494,
     "metadata": {},
     "output_type": "execute_result"
    }
   ],
   "source": [
    "maiores_pibs =  db.nlargest(10, 'PIB')\n",
    "maiores_pibs"
   ]
  },
  {
   "cell_type": "code",
   "execution_count": 495,
   "id": "81fc3504-4dd2-4060-9759-50fb015df6cd",
   "metadata": {},
   "outputs": [
    {
     "data": {
      "text/html": [
       "<div>\n",
       "<style scoped>\n",
       "    .dataframe tbody tr th:only-of-type {\n",
       "        vertical-align: middle;\n",
       "    }\n",
       "\n",
       "    .dataframe tbody tr th {\n",
       "        vertical-align: top;\n",
       "    }\n",
       "\n",
       "    .dataframe thead th {\n",
       "        text-align: right;\n",
       "    }\n",
       "</style>\n",
       "<table border=\"1\" class=\"dataframe\">\n",
       "  <thead>\n",
       "    <tr style=\"text-align: right;\">\n",
       "      <th></th>\n",
       "      <th>MUNICIPIO</th>\n",
       "      <th>PIB</th>\n",
       "    </tr>\n",
       "  </thead>\n",
       "  <tbody>\n",
       "    <tr>\n",
       "      <th>106</th>\n",
       "      <td>EUGENIO DE CASTRO</td>\n",
       "      <td>30468.92</td>\n",
       "    </tr>\n",
       "    <tr>\n",
       "      <th>175</th>\n",
       "      <td>PORTO ALEGRE</td>\n",
       "      <td>30524.80</td>\n",
       "    </tr>\n",
       "    <tr>\n",
       "      <th>169</th>\n",
       "      <td>VILA MARIA</td>\n",
       "      <td>31104.22</td>\n",
       "    </tr>\n",
       "    <tr>\n",
       "      <th>145</th>\n",
       "      <td>GLORINHA</td>\n",
       "      <td>33730.13</td>\n",
       "    </tr>\n",
       "    <tr>\n",
       "      <th>68</th>\n",
       "      <td>MARAU</td>\n",
       "      <td>34568.53</td>\n",
       "    </tr>\n",
       "    <tr>\n",
       "      <th>155</th>\n",
       "      <td>CAPAO DO CIPO</td>\n",
       "      <td>36739.78</td>\n",
       "    </tr>\n",
       "    <tr>\n",
       "      <th>176</th>\n",
       "      <td>SANTA CRUZ DO SUL</td>\n",
       "      <td>40671.53</td>\n",
       "    </tr>\n",
       "    <tr>\n",
       "      <th>91</th>\n",
       "      <td>GARRUCHOS</td>\n",
       "      <td>68672.25</td>\n",
       "    </tr>\n",
       "    <tr>\n",
       "      <th>146</th>\n",
       "      <td>MUITOS CAPOES</td>\n",
       "      <td>72353.72</td>\n",
       "    </tr>\n",
       "    <tr>\n",
       "      <th>49</th>\n",
       "      <td>TRIUNFO</td>\n",
       "      <td>223848.22</td>\n",
       "    </tr>\n",
       "  </tbody>\n",
       "</table>\n",
       "</div>"
      ],
      "text/plain": [
       "             MUNICIPIO        PIB\n",
       "106  EUGENIO DE CASTRO   30468.92\n",
       "175       PORTO ALEGRE   30524.80\n",
       "169         VILA MARIA   31104.22\n",
       "145           GLORINHA   33730.13\n",
       "68               MARAU   34568.53\n",
       "155      CAPAO DO CIPO   36739.78\n",
       "176  SANTA CRUZ DO SUL   40671.53\n",
       "91           GARRUCHOS   68672.25\n",
       "146      MUITOS CAPOES   72353.72\n",
       "49             TRIUNFO  223848.22"
      ]
     },
     "execution_count": 495,
     "metadata": {},
     "output_type": "execute_result"
    }
   ],
   "source": [
    "pib_municipio = maiores_pibs.iloc[::-1, 1:3]\n",
    "pib_municipio"
   ]
  },
  {
   "cell_type": "code",
   "execution_count": 496,
   "id": "e0ce8c20-193c-4df5-aa84-ccdd5b1f2748",
   "metadata": {},
   "outputs": [
    {
     "data": {
      "text/html": [
       "<div>\n",
       "<style scoped>\n",
       "    .dataframe tbody tr th:only-of-type {\n",
       "        vertical-align: middle;\n",
       "    }\n",
       "\n",
       "    .dataframe tbody tr th {\n",
       "        vertical-align: top;\n",
       "    }\n",
       "\n",
       "    .dataframe thead th {\n",
       "        text-align: right;\n",
       "    }\n",
       "</style>\n",
       "<table border=\"1\" class=\"dataframe\">\n",
       "  <thead>\n",
       "    <tr style=\"text-align: right;\">\n",
       "      <th></th>\n",
       "      <th>MUNICIPIO</th>\n",
       "      <th>VALOREMPENHO</th>\n",
       "    </tr>\n",
       "  </thead>\n",
       "  <tbody>\n",
       "    <tr>\n",
       "      <th>106</th>\n",
       "      <td>EUGENIO DE CASTRO</td>\n",
       "      <td>105023.36</td>\n",
       "    </tr>\n",
       "    <tr>\n",
       "      <th>175</th>\n",
       "      <td>PORTO ALEGRE</td>\n",
       "      <td>9358.33</td>\n",
       "    </tr>\n",
       "    <tr>\n",
       "      <th>169</th>\n",
       "      <td>VILA MARIA</td>\n",
       "      <td>28149.89</td>\n",
       "    </tr>\n",
       "    <tr>\n",
       "      <th>145</th>\n",
       "      <td>GLORINHA</td>\n",
       "      <td>74325.48</td>\n",
       "    </tr>\n",
       "    <tr>\n",
       "      <th>68</th>\n",
       "      <td>MARAU</td>\n",
       "      <td>193840.83</td>\n",
       "    </tr>\n",
       "    <tr>\n",
       "      <th>155</th>\n",
       "      <td>CAPAO DO CIPO</td>\n",
       "      <td>60851.00</td>\n",
       "    </tr>\n",
       "    <tr>\n",
       "      <th>176</th>\n",
       "      <td>SANTA CRUZ DO SUL</td>\n",
       "      <td>9637.00</td>\n",
       "    </tr>\n",
       "    <tr>\n",
       "      <th>91</th>\n",
       "      <td>GARRUCHOS</td>\n",
       "      <td>271841.26</td>\n",
       "    </tr>\n",
       "    <tr>\n",
       "      <th>146</th>\n",
       "      <td>MUITOS CAPOES</td>\n",
       "      <td>140597.55</td>\n",
       "    </tr>\n",
       "    <tr>\n",
       "      <th>49</th>\n",
       "      <td>TRIUNFO</td>\n",
       "      <td>1442759.82</td>\n",
       "    </tr>\n",
       "  </tbody>\n",
       "</table>\n",
       "</div>"
      ],
      "text/plain": [
       "             MUNICIPIO  VALOREMPENHO\n",
       "106  EUGENIO DE CASTRO     105023.36\n",
       "175       PORTO ALEGRE       9358.33\n",
       "169         VILA MARIA      28149.89\n",
       "145           GLORINHA      74325.48\n",
       "68               MARAU     193840.83\n",
       "155      CAPAO DO CIPO      60851.00\n",
       "176  SANTA CRUZ DO SUL       9637.00\n",
       "91           GARRUCHOS     271841.26\n",
       "146      MUITOS CAPOES     140597.55\n",
       "49             TRIUNFO    1442759.82"
      ]
     },
     "execution_count": 496,
     "metadata": {},
     "output_type": "execute_result"
    }
   ],
   "source": [
    "valor_municipio = maiores_pibs.iloc[::-1, [1,3]]\n",
    "valor_municipio"
   ]
  },
  {
   "cell_type": "code",
   "execution_count": 497,
   "id": "5a21e215-4924-4950-b747-f3d729cdefcf",
   "metadata": {},
   "outputs": [
    {
     "data": {
      "text/plain": [
       "Text(0.5, 1.0, 'Municipio / Valor de Empenho')"
      ]
     },
     "execution_count": 497,
     "metadata": {},
     "output_type": "execute_result"
    },
    {
     "data": {
      "image/png": "[encoded data removed]",
      "text/plain": [
       "<Figure size 432x288 with 1 Axes>"
      ]
     },
     "metadata": {},
     "output_type": "display_data"
    },
    {
     "data": {
      "image/png": "[encoded data removed]",
      "text/plain": [
       "<Figure size 432x288 with 1 Axes>"
      ]
     },
     "metadata": {},
     "output_type": "display_data"
    }
   ],
   "source": [
    "pib_municipio.plot.barh(x='MUNICIPIO', y='PIB').set_title('Municipio / Pib')\n",
    "\n",
    "valor_municipio.plot.barh(x='MUNICIPIO', y='VALOREMPENHO').set_title('Municipio / Valor de Empenho')"
   ]
  },
  {
   "cell_type": "code",
   "execution_count": 498,
   "id": "624b1e5a-b5ec-4986-be74-feaee57e6dda",
   "metadata": {},
   "outputs": [
    {
     "data": {
      "text/html": [
       "<div>\n",
       "<style scoped>\n",
       "    .dataframe tbody tr th:only-of-type {\n",
       "        vertical-align: middle;\n",
       "    }\n",
       "\n",
       "    .dataframe tbody tr th {\n",
       "        vertical-align: top;\n",
       "    }\n",
       "\n",
       "    .dataframe thead th {\n",
       "        text-align: right;\n",
       "    }\n",
       "</style>\n",
       "<table border=\"1\" class=\"dataframe\">\n",
       "  <thead>\n",
       "    <tr style=\"text-align: right;\">\n",
       "      <th></th>\n",
       "      <th>PIB</th>\n",
       "      <th>VALOREMPENHO</th>\n",
       "    </tr>\n",
       "  </thead>\n",
       "  <tbody>\n",
       "    <tr>\n",
       "      <th>106</th>\n",
       "      <td>30468.92</td>\n",
       "      <td>105023.36</td>\n",
       "    </tr>\n",
       "    <tr>\n",
       "      <th>175</th>\n",
       "      <td>30524.80</td>\n",
       "      <td>9358.33</td>\n",
       "    </tr>\n",
       "    <tr>\n",
       "      <th>169</th>\n",
       "      <td>31104.22</td>\n",
       "      <td>28149.89</td>\n",
       "    </tr>\n",
       "    <tr>\n",
       "      <th>145</th>\n",
       "      <td>33730.13</td>\n",
       "      <td>74325.48</td>\n",
       "    </tr>\n",
       "    <tr>\n",
       "      <th>68</th>\n",
       "      <td>34568.53</td>\n",
       "      <td>193840.83</td>\n",
       "    </tr>\n",
       "    <tr>\n",
       "      <th>155</th>\n",
       "      <td>36739.78</td>\n",
       "      <td>60851.00</td>\n",
       "    </tr>\n",
       "    <tr>\n",
       "      <th>176</th>\n",
       "      <td>40671.53</td>\n",
       "      <td>9637.00</td>\n",
       "    </tr>\n",
       "    <tr>\n",
       "      <th>91</th>\n",
       "      <td>68672.25</td>\n",
       "      <td>271841.26</td>\n",
       "    </tr>\n",
       "    <tr>\n",
       "      <th>146</th>\n",
       "      <td>72353.72</td>\n",
       "      <td>140597.55</td>\n",
       "    </tr>\n",
       "    <tr>\n",
       "      <th>49</th>\n",
       "      <td>223848.22</td>\n",
       "      <td>1442759.82</td>\n",
       "    </tr>\n",
       "  </tbody>\n",
       "</table>\n",
       "</div>"
      ],
      "text/plain": [
       "           PIB  VALOREMPENHO\n",
       "106   30468.92     105023.36\n",
       "175   30524.80       9358.33\n",
       "169   31104.22      28149.89\n",
       "145   33730.13      74325.48\n",
       "68    34568.53     193840.83\n",
       "155   36739.78      60851.00\n",
       "176   40671.53       9637.00\n",
       "91    68672.25     271841.26\n",
       "146   72353.72     140597.55\n",
       "49   223848.22    1442759.82"
      ]
     },
     "execution_count": 498,
     "metadata": {},
     "output_type": "execute_result"
    }
   ],
   "source": [
    "pib_valor = maiores_pibs.iloc[::-1, 2:4]\n",
    "pib_valor"
   ]
  },
  {
   "cell_type": "markdown",
   "id": "67218e01-6fb0-4592-933d-2e3dfe8e8497",
   "metadata": {},
   "source": [
    "### Ajuste para preencher 100%"
   ]
  },
  {
   "cell_type": "code",
   "execution_count": 499,
   "id": "68e638ab-be19-41d0-a796-be9ca85dfddb",
   "metadata": {},
   "outputs": [
    {
     "data": {
      "text/html": [
       "<div>\n",
       "<style scoped>\n",
       "    .dataframe tbody tr th:only-of-type {\n",
       "        vertical-align: middle;\n",
       "    }\n",
       "\n",
       "    .dataframe tbody tr th {\n",
       "        vertical-align: top;\n",
       "    }\n",
       "\n",
       "    .dataframe thead th {\n",
       "        text-align: right;\n",
       "    }\n",
       "</style>\n",
       "<table border=\"1\" class=\"dataframe\">\n",
       "  <thead>\n",
       "    <tr style=\"text-align: right;\">\n",
       "      <th></th>\n",
       "      <th>PIB</th>\n",
       "      <th>VALOREMPENHO</th>\n",
       "    </tr>\n",
       "  </thead>\n",
       "  <tbody>\n",
       "    <tr>\n",
       "      <th>106</th>\n",
       "      <td>22.487569</td>\n",
       "      <td>77.512431</td>\n",
       "    </tr>\n",
       "    <tr>\n",
       "      <th>175</th>\n",
       "      <td>76.535618</td>\n",
       "      <td>23.464382</td>\n",
       "    </tr>\n",
       "    <tr>\n",
       "      <th>169</th>\n",
       "      <td>52.492933</td>\n",
       "      <td>47.507067</td>\n",
       "    </tr>\n",
       "    <tr>\n",
       "      <th>145</th>\n",
       "      <td>31.215529</td>\n",
       "      <td>68.784471</td>\n",
       "    </tr>\n",
       "    <tr>\n",
       "      <th>68</th>\n",
       "      <td>15.134463</td>\n",
       "      <td>84.865537</td>\n",
       "    </tr>\n",
       "    <tr>\n",
       "      <th>155</th>\n",
       "      <td>37.646774</td>\n",
       "      <td>62.353226</td>\n",
       "    </tr>\n",
       "    <tr>\n",
       "      <th>176</th>\n",
       "      <td>80.844203</td>\n",
       "      <td>19.155797</td>\n",
       "    </tr>\n",
       "    <tr>\n",
       "      <th>91</th>\n",
       "      <td>20.167261</td>\n",
       "      <td>79.832739</td>\n",
       "    </tr>\n",
       "    <tr>\n",
       "      <th>146</th>\n",
       "      <td>33.976656</td>\n",
       "      <td>66.023344</td>\n",
       "    </tr>\n",
       "    <tr>\n",
       "      <th>49</th>\n",
       "      <td>13.431366</td>\n",
       "      <td>86.568634</td>\n",
       "    </tr>\n",
       "  </tbody>\n",
       "</table>\n",
       "</div>"
      ],
      "text/plain": [
       "           PIB  VALOREMPENHO\n",
       "106  22.487569     77.512431\n",
       "175  76.535618     23.464382\n",
       "169  52.492933     47.507067\n",
       "145  31.215529     68.784471\n",
       "68   15.134463     84.865537\n",
       "155  37.646774     62.353226\n",
       "176  80.844203     19.155797\n",
       "91   20.167261     79.832739\n",
       "146  33.976656     66.023344\n",
       "49   13.431366     86.568634"
      ]
     },
     "execution_count": 499,
     "metadata": {},
     "output_type": "execute_result"
    }
   ],
   "source": [
    "ajuste = pib_valor.div(pib_valor.sum(axis=1), axis=0)*100\n",
    "ajuste"
   ]
  },
  {
   "cell_type": "code",
   "execution_count": 500,
   "id": "c9dc9bc3-98fe-43a3-91d1-0bbded2ba84a",
   "metadata": {},
   "outputs": [
    {
     "data": {
      "text/html": [
       "<div>\n",
       "<style scoped>\n",
       "    .dataframe tbody tr th:only-of-type {\n",
       "        vertical-align: middle;\n",
       "    }\n",
       "\n",
       "    .dataframe tbody tr th {\n",
       "        vertical-align: top;\n",
       "    }\n",
       "\n",
       "    .dataframe thead th {\n",
       "        text-align: right;\n",
       "    }\n",
       "</style>\n",
       "<table border=\"1\" class=\"dataframe\">\n",
       "  <thead>\n",
       "    <tr style=\"text-align: right;\">\n",
       "      <th></th>\n",
       "      <th>MUNICIPIO</th>\n",
       "    </tr>\n",
       "  </thead>\n",
       "  <tbody>\n",
       "    <tr>\n",
       "      <th>106</th>\n",
       "      <td>EUGENIO DE CASTRO</td>\n",
       "    </tr>\n",
       "    <tr>\n",
       "      <th>175</th>\n",
       "      <td>PORTO ALEGRE</td>\n",
       "    </tr>\n",
       "    <tr>\n",
       "      <th>169</th>\n",
       "      <td>VILA MARIA</td>\n",
       "    </tr>\n",
       "    <tr>\n",
       "      <th>145</th>\n",
       "      <td>GLORINHA</td>\n",
       "    </tr>\n",
       "    <tr>\n",
       "      <th>68</th>\n",
       "      <td>MARAU</td>\n",
       "    </tr>\n",
       "    <tr>\n",
       "      <th>155</th>\n",
       "      <td>CAPAO DO CIPO</td>\n",
       "    </tr>\n",
       "    <tr>\n",
       "      <th>176</th>\n",
       "      <td>SANTA CRUZ DO SUL</td>\n",
       "    </tr>\n",
       "    <tr>\n",
       "      <th>91</th>\n",
       "      <td>GARRUCHOS</td>\n",
       "    </tr>\n",
       "    <tr>\n",
       "      <th>146</th>\n",
       "      <td>MUITOS CAPOES</td>\n",
       "    </tr>\n",
       "    <tr>\n",
       "      <th>49</th>\n",
       "      <td>TRIUNFO</td>\n",
       "    </tr>\n",
       "  </tbody>\n",
       "</table>\n",
       "</div>"
      ],
      "text/plain": [
       "             MUNICIPIO\n",
       "106  EUGENIO DE CASTRO\n",
       "175       PORTO ALEGRE\n",
       "169         VILA MARIA\n",
       "145           GLORINHA\n",
       "68               MARAU\n",
       "155      CAPAO DO CIPO\n",
       "176  SANTA CRUZ DO SUL\n",
       "91           GARRUCHOS\n",
       "146      MUITOS CAPOES\n",
       "49             TRIUNFO"
      ]
     },
     "execution_count": 500,
     "metadata": {},
     "output_type": "execute_result"
    }
   ],
   "source": [
    "munip = maiores_pibs.iloc[::-1, [1]]\n",
    "munip"
   ]
  },
  {
   "cell_type": "markdown",
   "id": "9143ba86-f644-4e5d-976c-7fda81ae011e",
   "metadata": {},
   "source": [
    "### Juntando a lista ajustada com os municipios"
   ]
  },
  {
   "cell_type": "code",
   "execution_count": 501,
   "id": "f882cb9f-44af-40da-9b63-27ff041116f5",
   "metadata": {},
   "outputs": [
    {
     "data": {
      "text/html": [
       "<div>\n",
       "<style scoped>\n",
       "    .dataframe tbody tr th:only-of-type {\n",
       "        vertical-align: middle;\n",
       "    }\n",
       "\n",
       "    .dataframe tbody tr th {\n",
       "        vertical-align: top;\n",
       "    }\n",
       "\n",
       "    .dataframe thead th {\n",
       "        text-align: right;\n",
       "    }\n",
       "</style>\n",
       "<table border=\"1\" class=\"dataframe\">\n",
       "  <thead>\n",
       "    <tr style=\"text-align: right;\">\n",
       "      <th></th>\n",
       "      <th>PIB</th>\n",
       "      <th>VALOREMPENHO</th>\n",
       "      <th>MUNICIPIO</th>\n",
       "    </tr>\n",
       "  </thead>\n",
       "  <tbody>\n",
       "    <tr>\n",
       "      <th>106</th>\n",
       "      <td>22.487569</td>\n",
       "      <td>77.512431</td>\n",
       "      <td>EUGENIO DE CASTRO</td>\n",
       "    </tr>\n",
       "    <tr>\n",
       "      <th>175</th>\n",
       "      <td>76.535618</td>\n",
       "      <td>23.464382</td>\n",
       "      <td>PORTO ALEGRE</td>\n",
       "    </tr>\n",
       "    <tr>\n",
       "      <th>169</th>\n",
       "      <td>52.492933</td>\n",
       "      <td>47.507067</td>\n",
       "      <td>VILA MARIA</td>\n",
       "    </tr>\n",
       "    <tr>\n",
       "      <th>145</th>\n",
       "      <td>31.215529</td>\n",
       "      <td>68.784471</td>\n",
       "      <td>GLORINHA</td>\n",
       "    </tr>\n",
       "    <tr>\n",
       "      <th>68</th>\n",
       "      <td>15.134463</td>\n",
       "      <td>84.865537</td>\n",
       "      <td>MARAU</td>\n",
       "    </tr>\n",
       "    <tr>\n",
       "      <th>155</th>\n",
       "      <td>37.646774</td>\n",
       "      <td>62.353226</td>\n",
       "      <td>CAPAO DO CIPO</td>\n",
       "    </tr>\n",
       "    <tr>\n",
       "      <th>176</th>\n",
       "      <td>80.844203</td>\n",
       "      <td>19.155797</td>\n",
       "      <td>SANTA CRUZ DO SUL</td>\n",
       "    </tr>\n",
       "    <tr>\n",
       "      <th>91</th>\n",
       "      <td>20.167261</td>\n",
       "      <td>79.832739</td>\n",
       "      <td>GARRUCHOS</td>\n",
       "    </tr>\n",
       "    <tr>\n",
       "      <th>146</th>\n",
       "      <td>33.976656</td>\n",
       "      <td>66.023344</td>\n",
       "      <td>MUITOS CAPOES</td>\n",
       "    </tr>\n",
       "    <tr>\n",
       "      <th>49</th>\n",
       "      <td>13.431366</td>\n",
       "      <td>86.568634</td>\n",
       "      <td>TRIUNFO</td>\n",
       "    </tr>\n",
       "  </tbody>\n",
       "</table>\n",
       "</div>"
      ],
      "text/plain": [
       "           PIB  VALOREMPENHO          MUNICIPIO\n",
       "106  22.487569     77.512431  EUGENIO DE CASTRO\n",
       "175  76.535618     23.464382       PORTO ALEGRE\n",
       "169  52.492933     47.507067         VILA MARIA\n",
       "145  31.215529     68.784471           GLORINHA\n",
       "68   15.134463     84.865537              MARAU\n",
       "155  37.646774     62.353226      CAPAO DO CIPO\n",
       "176  80.844203     19.155797  SANTA CRUZ DO SUL\n",
       "91   20.167261     79.832739          GARRUCHOS\n",
       "146  33.976656     66.023344      MUITOS CAPOES\n",
       "49   13.431366     86.568634            TRIUNFO"
      ]
     },
     "execution_count": 501,
     "metadata": {},
     "output_type": "execute_result"
    }
   ],
   "source": [
    "ajuste.loc[:, 'MUNICIPIO']  = munip\n",
    "ajuste"
   ]
  },
  {
   "cell_type": "code",
   "execution_count": 502,
   "id": "1e6b13de-fd48-4a3b-a87a-7f4041612023",
   "metadata": {},
   "outputs": [
    {
     "data": {
      "text/plain": [
       "<matplotlib.legend.Legend at 0x1a20019b1c0>"
      ]
     },
     "execution_count": 502,
     "metadata": {},
     "output_type": "execute_result"
    },
    {
     "data": {
      "image/png": "[encoded data removed]",
      "text/plain": [
       "<Figure size 432x288 with 1 Axes>"
      ]
     },
     "metadata": {},
     "output_type": "display_data"
    }
   ],
   "source": [
    "ajuste.plot.barh(x='MUNICIPIO', stacked=True).set_title('Relação PIB/Valor Empenho')\n",
    "plt.legend(['PIB', 'Valor Empenho'], bbox_to_anchor=(1, -0.1))\n"
   ]
  },
  {
   "cell_type": "code",
   "execution_count": 503,
   "id": "d7ccd4ee-3723-4cd3-88a0-11e71bf206f2",
   "metadata": {},
   "outputs": [
    {
     "data": {
      "text/plain": [
       "<AxesSubplot:xlabel='VALOREMPENHO', ylabel='PIB'>"
      ]
     },
     "execution_count": 503,
     "metadata": {},
     "output_type": "execute_result"
    },
    {
     "data": {
      "image/png": "[encoded data removed]",
      "text/plain": [
       "<Figure size 432x288 with 1 Axes>"
      ]
     },
     "metadata": {},
     "output_type": "display_data"
    }
   ],
   "source": [
    "srn.scatterplot(x=db.VALOREMPENHO, y=db.PIB)"
   ]
  }
 ],
 "metadata": {
  "kernelspec": {
   "display_name": "Python 3",
   "language": "python",
   "name": "python3"
  },
  "language_info": {
   "codemirror_mode": {
    "name": "ipython",
    "version": 3
   },
   "file_extension": ".py",
   "mimetype": "text/x-python",
   "name": "python",
   "nbconvert_exporter": "python",
   "pygments_lexer": "ipython3",
   "version": "3.8.8"
  }
 },
 "nbformat": 4,
 "nbformat_minor": 5
}
