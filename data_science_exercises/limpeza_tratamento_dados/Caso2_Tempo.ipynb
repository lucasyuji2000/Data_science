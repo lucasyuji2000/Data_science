{
 "cells": [
  {
   "cell_type": "markdown",
   "id": "cc38becf-d790-48fd-907f-a90333d5a0ac",
   "metadata": {},
   "source": [
    "# Exercicios Limpeza e Tratamento de dados"
   ]
  },
  {
   "cell_type": "markdown",
   "id": "098e9e62-3415-41a9-85f6-09093d053b3f",
   "metadata": {},
   "source": [
    "## Caso 2 - Tempo:"
   ]
  },
  {
   "cell_type": "code",
   "execution_count": 1,
   "id": "e4d3dd33-f4f0-41f5-a92d-b8cf8ac98aee",
   "metadata": {},
   "outputs": [],
   "source": [
    "import pandas as pd\n",
    "import statistics as sts\n",
    "import seaborn as srn"
   ]
  },
  {
   "cell_type": "code",
   "execution_count": 2,
   "id": "38726334-9e4c-43ef-ad49-d5c62104bf0e",
   "metadata": {},
   "outputs": [
    {
     "data": {
      "text/html": [
       "<div>\n",
       "<style scoped>\n",
       "    .dataframe tbody tr th:only-of-type {\n",
       "        vertical-align: middle;\n",
       "    }\n",
       "\n",
       "    .dataframe tbody tr th {\n",
       "        vertical-align: top;\n",
       "    }\n",
       "\n",
       "    .dataframe thead th {\n",
       "        text-align: right;\n",
       "    }\n",
       "</style>\n",
       "<table border=\"1\" class=\"dataframe\">\n",
       "  <thead>\n",
       "    <tr style=\"text-align: right;\">\n",
       "      <th></th>\n",
       "      <th>Aparencia</th>\n",
       "      <th>Temperatura</th>\n",
       "      <th>Umidade</th>\n",
       "      <th>Vento</th>\n",
       "      <th>Jogar</th>\n",
       "    </tr>\n",
       "  </thead>\n",
       "  <tbody>\n",
       "    <tr>\n",
       "      <th>0</th>\n",
       "      <td>sol</td>\n",
       "      <td>85</td>\n",
       "      <td>85.0</td>\n",
       "      <td>FALSO</td>\n",
       "      <td>nao</td>\n",
       "    </tr>\n",
       "    <tr>\n",
       "      <th>1</th>\n",
       "      <td>sol</td>\n",
       "      <td>80</td>\n",
       "      <td>90.0</td>\n",
       "      <td>VERDADEIRO</td>\n",
       "      <td>nao</td>\n",
       "    </tr>\n",
       "    <tr>\n",
       "      <th>2</th>\n",
       "      <td>nublado</td>\n",
       "      <td>83</td>\n",
       "      <td>86.0</td>\n",
       "      <td>FALSO</td>\n",
       "      <td>sim</td>\n",
       "    </tr>\n",
       "    <tr>\n",
       "      <th>3</th>\n",
       "      <td>chuva</td>\n",
       "      <td>70</td>\n",
       "      <td>NaN</td>\n",
       "      <td>FALSO</td>\n",
       "      <td>sim</td>\n",
       "    </tr>\n",
       "    <tr>\n",
       "      <th>4</th>\n",
       "      <td>chuva</td>\n",
       "      <td>68</td>\n",
       "      <td>80.0</td>\n",
       "      <td>FALSO</td>\n",
       "      <td>sim</td>\n",
       "    </tr>\n",
       "  </tbody>\n",
       "</table>\n",
       "</div>"
      ],
      "text/plain": [
       "  Aparencia  Temperatura  Umidade       Vento Jogar\n",
       "0       sol           85     85.0       FALSO   nao\n",
       "1       sol           80     90.0  VERDADEIRO   nao\n",
       "2   nublado           83     86.0       FALSO   sim\n",
       "3     chuva           70      NaN       FALSO   sim\n",
       "4     chuva           68     80.0       FALSO   sim"
      ]
     },
     "execution_count": 2,
     "metadata": {},
     "output_type": "execute_result"
    }
   ],
   "source": [
    "db = pd.read_csv(r'dados\\tempo.csv', sep=';')\n",
    "db.head()"
   ]
  },
  {
   "cell_type": "markdown",
   "id": "3b066843-d9ad-4ab4-9e44-c555ffc15721",
   "metadata": {},
   "source": [
    "## Exploracao de dados"
   ]
  },
  {
   "cell_type": "markdown",
   "id": "48b1eafb-e6c8-4389-aa16-4bcc226d3ddb",
   "metadata": {},
   "source": [
    "### Explorando dados categoricos"
   ]
  },
  {
   "cell_type": "markdown",
   "id": "5b3602e5-30de-4702-a5ff-3c7dea2097ce",
   "metadata": {},
   "source": [
    "#### Aparencia"
   ]
  },
  {
   "cell_type": "code",
   "execution_count": 3,
   "id": "9541cd74-8b05-4d21-ac4b-218597dbc8b8",
   "metadata": {},
   "outputs": [
    {
     "data": {
      "text/plain": [
       "Aparencia\n",
       "chuva      5\n",
       "menos      1\n",
       "nublado    3\n",
       "sol        5\n",
       "dtype: int64"
      ]
     },
     "execution_count": 3,
     "metadata": {},
     "output_type": "execute_result"
    }
   ],
   "source": [
    "agrupado = db.groupby(['Aparencia']).size()\n",
    "agrupado"
   ]
  },
  {
   "cell_type": "markdown",
   "id": "0c4ecd92-eb2d-4b43-a97f-1a6e6773aeee",
   "metadata": {},
   "source": [
    "#### Vento"
   ]
  },
  {
   "cell_type": "code",
   "execution_count": 5,
   "id": "91ba9a58-2a22-42ed-892f-3a0a5e950372",
   "metadata": {},
   "outputs": [
    {
     "data": {
      "text/plain": [
       "Vento\n",
       "FALSO         7\n",
       "VERDADEIRO    6\n",
       "dtype: int64"
      ]
     },
     "execution_count": 5,
     "metadata": {},
     "output_type": "execute_result"
    }
   ],
   "source": [
    "agrupado = db.groupby(['Vento']).size()\n",
    "agrupado"
   ]
  },
  {
   "cell_type": "markdown",
   "id": "53ca3348-b2e3-415a-be20-c8bba7cbb7b9",
   "metadata": {},
   "source": [
    "#### Jogar"
   ]
  },
  {
   "cell_type": "code",
   "execution_count": 6,
   "id": "1d364d1f-22f7-4518-a44e-cb501e444463",
   "metadata": {},
   "outputs": [
    {
     "data": {
      "text/plain": [
       "Jogar\n",
       "nao    5\n",
       "sim    9\n",
       "dtype: int64"
      ]
     },
     "execution_count": 6,
     "metadata": {},
     "output_type": "execute_result"
    }
   ],
   "source": [
    "agrupado = db.groupby(['Jogar']).size()\n",
    "agrupado"
   ]
  },
  {
   "cell_type": "markdown",
   "id": "368238c7-b196-4aac-9db9-5b6d4135233e",
   "metadata": {},
   "source": [
    "### Explorando dados numericos"
   ]
  },
  {
   "cell_type": "markdown",
   "id": "c89804cf-9a2b-4f6f-8844-032fe5fd6adf",
   "metadata": {},
   "source": [
    "#### Temperatura"
   ]
  },
  {
   "cell_type": "code",
   "execution_count": 8,
   "id": "54e6b0d2-6ca1-4292-9b5b-9ad6335450f7",
   "metadata": {},
   "outputs": [
    {
     "data": {
      "text/plain": [
       "count      14.000000\n",
       "mean      155.571429\n",
       "std       306.433759\n",
       "min        64.000000\n",
       "25%        69.250000\n",
       "50%        73.500000\n",
       "75%        80.750000\n",
       "max      1220.000000\n",
       "Name: Temperatura, dtype: float64"
      ]
     },
     "execution_count": 8,
     "metadata": {},
     "output_type": "execute_result"
    }
   ],
   "source": [
    "db['Temperatura'].describe()"
   ]
  },
  {
   "cell_type": "markdown",
   "id": "91434294-9286-4ddd-abdd-a88238bdd1e4",
   "metadata": {},
   "source": [
    "#### Umidade"
   ]
  },
  {
   "cell_type": "code",
   "execution_count": 9,
   "id": "8d37127f-f211-4a49-b9a5-1df50e6b2968",
   "metadata": {},
   "outputs": [
    {
     "data": {
      "text/plain": [
       "count     13.000000\n",
       "mean      89.769231\n",
       "std       34.540203\n",
       "min       65.000000\n",
       "25%       70.000000\n",
       "50%       85.000000\n",
       "75%       90.000000\n",
       "max      200.000000\n",
       "Name: Umidade, dtype: float64"
      ]
     },
     "execution_count": 9,
     "metadata": {},
     "output_type": "execute_result"
    }
   ],
   "source": [
    "db['Umidade'].describe()"
   ]
  },
  {
   "cell_type": "markdown",
   "id": "9df64d82-3123-4905-b362-756bd15bcaf8",
   "metadata": {},
   "source": [
    "#### Valores nulos"
   ]
  },
  {
   "cell_type": "code",
   "execution_count": 10,
   "id": "e268b8c5-99ba-47d1-9777-f9772dc8a604",
   "metadata": {},
   "outputs": [
    {
     "data": {
      "text/plain": [
       "Aparencia      0\n",
       "Temperatura    0\n",
       "Umidade        1\n",
       "Vento          1\n",
       "Jogar          0\n",
       "dtype: int64"
      ]
     },
     "execution_count": 10,
     "metadata": {},
     "output_type": "execute_result"
    }
   ],
   "source": [
    "db.isnull().sum()"
   ]
  },
  {
   "cell_type": "markdown",
   "id": "000153dc-dab7-4b73-81ae-053859f8ea6a",
   "metadata": {},
   "source": [
    "## Tratamento dos dados"
   ]
  },
  {
   "cell_type": "markdown",
   "id": "d45f6616-508e-4aa2-aae1-5cca928e9f2b",
   "metadata": {},
   "source": [
    "## Regras do negocio\n",
    "- Aparencia {sol, nublado, chuva}\n",
    "- Temperatura {>-130, <130}\n",
    "- Umidade {>0, < 100}\n",
    "- Jogar {sim/nao}\n",
    "- Vento {FALSO/VERDADEIRO}"
   ]
  },
  {
   "cell_type": "markdown",
   "id": "0279cf6c-2c7e-4abe-91f2-35c577e95fb6",
   "metadata": {},
   "source": [
    "#### Tratamento Aparencia ('menos nao faz parte do escopo')"
   ]
  },
  {
   "cell_type": "code",
   "execution_count": 11,
   "id": "411bf7b4-61a8-45b1-9ed6-3e312fd7c590",
   "metadata": {},
   "outputs": [
    {
     "data": {
      "text/plain": [
       "Aparencia\n",
       "chuva      5\n",
       "nublado    3\n",
       "sol        6\n",
       "dtype: int64"
      ]
     },
     "execution_count": 11,
     "metadata": {},
     "output_type": "execute_result"
    }
   ],
   "source": [
    "# substituiremos todas fora do escopo por sol, por ser a moda (a moda eh sol e chuva, mas por preferencia, fo escolhido sol)\n",
    "db.loc[db['Aparencia'] == 'menos', 'Aparencia'] = 'sol'\n",
    "# vizualizacao\n",
    "agrupado = db.groupby(['Aparencia']).size()\n",
    "agrupado"
   ]
  },
  {
   "cell_type": "markdown",
   "id": "ce23211a-c04a-4da1-96b8-d9d800810526",
   "metadata": {},
   "source": [
    "#### Tratamento Temperatura fora do dominio"
   ]
  },
  {
   "cell_type": "code",
   "execution_count": 12,
   "id": "e2689ab4-dca4-495d-80f3-65ba8bcebd21",
   "metadata": {},
   "outputs": [
    {
     "data": {
      "text/html": [
       "<div>\n",
       "<style scoped>\n",
       "    .dataframe tbody tr th:only-of-type {\n",
       "        vertical-align: middle;\n",
       "    }\n",
       "\n",
       "    .dataframe tbody tr th {\n",
       "        vertical-align: top;\n",
       "    }\n",
       "\n",
       "    .dataframe thead th {\n",
       "        text-align: right;\n",
       "    }\n",
       "</style>\n",
       "<table border=\"1\" class=\"dataframe\">\n",
       "  <thead>\n",
       "    <tr style=\"text-align: right;\">\n",
       "      <th></th>\n",
       "      <th>Aparencia</th>\n",
       "      <th>Temperatura</th>\n",
       "      <th>Umidade</th>\n",
       "      <th>Vento</th>\n",
       "      <th>Jogar</th>\n",
       "    </tr>\n",
       "  </thead>\n",
       "  <tbody>\n",
       "    <tr>\n",
       "      <th>7</th>\n",
       "      <td>sol</td>\n",
       "      <td>1220</td>\n",
       "      <td>95.0</td>\n",
       "      <td>FALSO</td>\n",
       "      <td>nao</td>\n",
       "    </tr>\n",
       "  </tbody>\n",
       "</table>\n",
       "</div>"
      ],
      "text/plain": [
       "  Aparencia  Temperatura  Umidade  Vento Jogar\n",
       "7       sol         1220     95.0  FALSO   nao"
      ]
     },
     "execution_count": 12,
     "metadata": {},
     "output_type": "execute_result"
    }
   ],
   "source": [
    "db.loc[(db['Temperatura'] <-130) | (db['Temperatura'] > 130)]"
   ]
  },
  {
   "cell_type": "code",
   "execution_count": 14,
   "id": "3955d67b-3511-423b-bb98-5cb380558c87",
   "metadata": {},
   "outputs": [
    {
     "data": {
      "text/plain": [
       "73.5"
      ]
     },
     "execution_count": 14,
     "metadata": {},
     "output_type": "execute_result"
    }
   ],
   "source": [
    "mediana = sts.median(db['Temperatura'])\n",
    "mediana"
   ]
  },
  {
   "cell_type": "code",
   "execution_count": 15,
   "id": "ff815e3b-b6e6-4cec-8c8a-c63d5e011de3",
   "metadata": {},
   "outputs": [
    {
     "data": {
      "text/html": [
       "<div>\n",
       "<style scoped>\n",
       "    .dataframe tbody tr th:only-of-type {\n",
       "        vertical-align: middle;\n",
       "    }\n",
       "\n",
       "    .dataframe tbody tr th {\n",
       "        vertical-align: top;\n",
       "    }\n",
       "\n",
       "    .dataframe thead th {\n",
       "        text-align: right;\n",
       "    }\n",
       "</style>\n",
       "<table border=\"1\" class=\"dataframe\">\n",
       "  <thead>\n",
       "    <tr style=\"text-align: right;\">\n",
       "      <th></th>\n",
       "      <th>Aparencia</th>\n",
       "      <th>Temperatura</th>\n",
       "      <th>Umidade</th>\n",
       "      <th>Vento</th>\n",
       "      <th>Jogar</th>\n",
       "    </tr>\n",
       "  </thead>\n",
       "  <tbody>\n",
       "  </tbody>\n",
       "</table>\n",
       "</div>"
      ],
      "text/plain": [
       "Empty DataFrame\n",
       "Columns: [Aparencia, Temperatura, Umidade, Vento, Jogar]\n",
       "Index: []"
      ]
     },
     "execution_count": 15,
     "metadata": {},
     "output_type": "execute_result"
    }
   ],
   "source": [
    "# sera utilizado a mediana para substituir as temperaturas fora do escopo\n",
    "db.loc[(db['Temperatura'] <-130) | (db['Temperatura'] > 130), 'Temperatura'] = mediana\n",
    "# vizualizacao\n",
    "db.loc[(db['Temperatura'] <-130) | (db['Temperatura'] > 130)]"
   ]
  },
  {
   "cell_type": "markdown",
   "id": "c7b97c49-d92d-4e3e-93fd-01974dd489ea",
   "metadata": {},
   "source": [
    "#### Tratamento Umidade fora do dominio e NA"
   ]
  },
  {
   "cell_type": "code",
   "execution_count": 19,
   "id": "d52aa523-9b27-4dfd-8f7a-35019332ad34",
   "metadata": {},
   "outputs": [
    {
     "data": {
      "text/plain": [
       "1"
      ]
     },
     "execution_count": 19,
     "metadata": {},
     "output_type": "execute_result"
    }
   ],
   "source": [
    "db['Umidade'].isnull().sum()"
   ]
  },
  {
   "cell_type": "code",
   "execution_count": 16,
   "id": "ba7dd035-a221-4417-986f-25c6ff4e0865",
   "metadata": {},
   "outputs": [
    {
     "data": {
      "text/html": [
       "<div>\n",
       "<style scoped>\n",
       "    .dataframe tbody tr th:only-of-type {\n",
       "        vertical-align: middle;\n",
       "    }\n",
       "\n",
       "    .dataframe tbody tr th {\n",
       "        vertical-align: top;\n",
       "    }\n",
       "\n",
       "    .dataframe thead th {\n",
       "        text-align: right;\n",
       "    }\n",
       "</style>\n",
       "<table border=\"1\" class=\"dataframe\">\n",
       "  <thead>\n",
       "    <tr style=\"text-align: right;\">\n",
       "      <th></th>\n",
       "      <th>Aparencia</th>\n",
       "      <th>Temperatura</th>\n",
       "      <th>Umidade</th>\n",
       "      <th>Vento</th>\n",
       "      <th>Jogar</th>\n",
       "    </tr>\n",
       "  </thead>\n",
       "  <tbody>\n",
       "    <tr>\n",
       "      <th>9</th>\n",
       "      <td>chuva</td>\n",
       "      <td>75.0</td>\n",
       "      <td>200.0</td>\n",
       "      <td>NaN</td>\n",
       "      <td>sim</td>\n",
       "    </tr>\n",
       "  </tbody>\n",
       "</table>\n",
       "</div>"
      ],
      "text/plain": [
       "  Aparencia  Temperatura  Umidade Vento Jogar\n",
       "9     chuva         75.0    200.0   NaN   sim"
      ]
     },
     "execution_count": 16,
     "metadata": {},
     "output_type": "execute_result"
    }
   ],
   "source": [
    "db.loc[(db['Umidade'] < 0) | (db['Umidade'] > 100)]"
   ]
  },
  {
   "cell_type": "code",
   "execution_count": 20,
   "id": "969df0ec-9f38-45f6-8c4b-6973aa6f3393",
   "metadata": {},
   "outputs": [
    {
     "data": {
      "text/plain": [
       "85.5"
      ]
     },
     "execution_count": 20,
     "metadata": {},
     "output_type": "execute_result"
    }
   ],
   "source": [
    "mediana = sts.median(db['Umidade'])\n",
    "mediana"
   ]
  },
  {
   "cell_type": "code",
   "execution_count": 21,
   "id": "ebae7efa-c4ec-448f-a638-e67ebe073ad3",
   "metadata": {},
   "outputs": [
    {
     "data": {
      "text/plain": [
       "0"
      ]
     },
     "execution_count": 21,
     "metadata": {},
     "output_type": "execute_result"
    }
   ],
   "source": [
    "db['Umidade'].fillna(mediana, inplace=True)\n",
    "db['Umidade'].isnull().sum()"
   ]
  },
  {
   "cell_type": "code",
   "execution_count": 22,
   "id": "141c61a5-2085-4b4b-975b-50f6d6946143",
   "metadata": {},
   "outputs": [
    {
     "data": {
      "text/html": [
       "<div>\n",
       "<style scoped>\n",
       "    .dataframe tbody tr th:only-of-type {\n",
       "        vertical-align: middle;\n",
       "    }\n",
       "\n",
       "    .dataframe tbody tr th {\n",
       "        vertical-align: top;\n",
       "    }\n",
       "\n",
       "    .dataframe thead th {\n",
       "        text-align: right;\n",
       "    }\n",
       "</style>\n",
       "<table border=\"1\" class=\"dataframe\">\n",
       "  <thead>\n",
       "    <tr style=\"text-align: right;\">\n",
       "      <th></th>\n",
       "      <th>Aparencia</th>\n",
       "      <th>Temperatura</th>\n",
       "      <th>Umidade</th>\n",
       "      <th>Vento</th>\n",
       "      <th>Jogar</th>\n",
       "    </tr>\n",
       "  </thead>\n",
       "  <tbody>\n",
       "  </tbody>\n",
       "</table>\n",
       "</div>"
      ],
      "text/plain": [
       "Empty DataFrame\n",
       "Columns: [Aparencia, Temperatura, Umidade, Vento, Jogar]\n",
       "Index: []"
      ]
     },
     "execution_count": 22,
     "metadata": {},
     "output_type": "execute_result"
    }
   ],
   "source": [
    "# sera utilizado a mediana para substituir as umidades fora do escopo\n",
    "db.loc[(db['Umidade'] < 0) | (db['Umidade'] > 100), 'Umidade'] = mediana\n",
    "# vizualizacao\n",
    "db.loc[(db['Umidade'] < 0) | (db['Umidade'] > 100)]"
   ]
  },
  {
   "cell_type": "markdown",
   "id": "2949da2a-b558-423b-8caa-d0446e88ac14",
   "metadata": {},
   "source": [
    "#### Tratamento NAs Vento"
   ]
  },
  {
   "cell_type": "code",
   "execution_count": 24,
   "id": "0d62402e-10a7-41f9-b9b7-d5ae0f3eab3d",
   "metadata": {},
   "outputs": [
    {
     "data": {
      "text/plain": [
       "1"
      ]
     },
     "execution_count": 24,
     "metadata": {},
     "output_type": "execute_result"
    }
   ],
   "source": [
    "db['Vento'].isnull().sum()"
   ]
  },
  {
   "cell_type": "code",
   "execution_count": 25,
   "id": "f680038a-9818-490f-8ebe-480889281d38",
   "metadata": {},
   "outputs": [
    {
     "data": {
      "text/plain": [
       "Vento\n",
       "FALSO         7\n",
       "VERDADEIRO    6\n",
       "dtype: int64"
      ]
     },
     "execution_count": 25,
     "metadata": {},
     "output_type": "execute_result"
    }
   ],
   "source": [
    "agrupado = db.groupby(['Vento']).size()\n",
    "agrupado"
   ]
  },
  {
   "cell_type": "markdown",
   "id": "ef330291-aa4e-4675-9226-3a912aca4960",
   "metadata": {},
   "source": [
    "#### sera utilizado a moda para substituir valores NAs em Vento"
   ]
  },
  {
   "cell_type": "code",
   "execution_count": 26,
   "id": "0d135f48-02b4-473e-ab64-151706ae3f8f",
   "metadata": {},
   "outputs": [
    {
     "data": {
      "text/plain": [
       "Vento\n",
       "FALSO         8\n",
       "VERDADEIRO    6\n",
       "dtype: int64"
      ]
     },
     "execution_count": 26,
     "metadata": {},
     "output_type": "execute_result"
    }
   ],
   "source": [
    "# moda = Falso\n",
    "db['Vento'].fillna('FALSO', inplace=True)\n",
    "# vizualizacao\n",
    "agrupado = db.groupby(['Vento']).size()\n",
    "agrupado"
   ]
  },
  {
   "cell_type": "code",
   "execution_count": 27,
   "id": "0b94cf90-94b5-4b7a-8c0c-7cb559e0658a",
   "metadata": {},
   "outputs": [
    {
     "data": {
      "text/plain": [
       "0"
      ]
     },
     "execution_count": 27,
     "metadata": {},
     "output_type": "execute_result"
    }
   ],
   "source": [
    "db['Vento'].isnull().sum()"
   ]
  },
  {
   "cell_type": "code",
   "execution_count": null,
   "id": "8b9eccfa-a14a-47c7-9fac-cd2d7d7438ca",
   "metadata": {},
   "outputs": [],
   "source": []
  }
 ],
 "metadata": {
  "kernelspec": {
   "display_name": "Python 3",
   "language": "python",
   "name": "python3"
  },
  "language_info": {
   "codemirror_mode": {
    "name": "ipython",
    "version": 3
   },
   "file_extension": ".py",
   "mimetype": "text/x-python",
   "name": "python",
   "nbconvert_exporter": "python",
   "pygments_lexer": "ipython3",
   "version": "3.8.8"
  }
 },
 "nbformat": 4,
 "nbformat_minor": 5
}
